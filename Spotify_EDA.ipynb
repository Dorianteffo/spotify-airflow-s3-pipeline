{
 "cells": [
  {
   "cell_type": "code",
   "execution_count": 2,
   "metadata": {},
   "outputs": [],
   "source": [
    "# import libraries\n",
    "import pandas as pd \n",
    "import boto3\n",
    "import configparser\n",
    "import seaborn as sns \n",
    "import matplotlib.pyplot as plt\n",
    "import plotly.express as px\n",
    "sns.set_theme(style=\"darkgrid\")"
   ]
  },
  {
   "cell_type": "code",
   "execution_count": 3,
   "metadata": {},
   "outputs": [],
   "source": [
    "config = configparser.ConfigParser()\n",
    "config.read('private.cfg')\n",
    "ACCESS_KEY_ID = config.get('AWS','ACCESS_KEY_ID')\n",
    "SECRET_ACCESS_KEY = config.get('AWS', 'SECRET_ACCESS_KEY')\n",
    "BUCKET_NAME = config.get('AWS', 'BUCKET_NAME')\n",
    "TRACKDATA = config.get('AWS', 'TRACKDATA')\n",
    "ALBUMDATA = config.get('AWS', 'ALBUMDATA')"
   ]
  },
  {
   "cell_type": "code",
   "execution_count": 4,
   "metadata": {},
   "outputs": [],
   "source": [
    "#extract the track data file from S3\n",
    "s3_client = boto3.client(\n",
    "    \"s3\",\n",
    "    aws_access_key_id = ACCESS_KEY_ID,\n",
    "    aws_secret_access_key = SECRET_ACCESS_KEY\n",
    ")\n",
    "response = s3_client.get_object(Bucket=BUCKET_NAME, Key=TRACKDATA)\n",
    "track0 = pd.read_csv(response.get(\"Body\"))"
   ]
  },
  {
   "cell_type": "code",
   "execution_count": 5,
   "metadata": {},
   "outputs": [],
   "source": [
    "#extract the album data file from S3\n",
    "s3_client = boto3.client(\n",
    "    \"s3\",\n",
    "    aws_access_key_id = ACCESS_KEY_ID,\n",
    "    aws_secret_access_key = SECRET_ACCESS_KEY\n",
    ")\n",
    "response = s3_client.get_object(Bucket=BUCKET_NAME, Key=ALBUMDATA)\n",
    "album0 = df = pd.read_csv(response.get(\"Body\"))"
   ]
  },
  {
   "cell_type": "code",
   "execution_count": 129,
   "metadata": {},
   "outputs": [],
   "source": [
    "track = track0.copy()\n",
    "album = album0.copy()"
   ]
  },
  {
   "cell_type": "code",
   "execution_count": 130,
   "metadata": {},
   "outputs": [
    {
     "data": {
      "text/html": [
       "<div>\n",
       "<style scoped>\n",
       "    .dataframe tbody tr th:only-of-type {\n",
       "        vertical-align: middle;\n",
       "    }\n",
       "\n",
       "    .dataframe tbody tr th {\n",
       "        vertical-align: top;\n",
       "    }\n",
       "\n",
       "    .dataframe thead th {\n",
       "        text-align: right;\n",
       "    }\n",
       "</style>\n",
       "<table border=\"1\" class=\"dataframe\">\n",
       "  <thead>\n",
       "    <tr style=\"text-align: right;\">\n",
       "      <th></th>\n",
       "      <th>Unnamed: 0</th>\n",
       "      <th>track_name</th>\n",
       "      <th>duration_ms</th>\n",
       "      <th>explicit</th>\n",
       "      <th>popularity</th>\n",
       "      <th>track_number</th>\n",
       "      <th>available_markets</th>\n",
       "      <th>artists_name</th>\n",
       "      <th>artists_id</th>\n",
       "      <th>album_id</th>\n",
       "      <th>album_name</th>\n",
       "    </tr>\n",
       "  </thead>\n",
       "  <tbody>\n",
       "    <tr>\n",
       "      <th>0</th>\n",
       "      <td>0</td>\n",
       "      <td>Drip Too Hard (Lil Baby &amp; Gunna)</td>\n",
       "      <td>145542</td>\n",
       "      <td>True</td>\n",
       "      <td>85</td>\n",
       "      <td>12</td>\n",
       "      <td>['AR', 'AU', 'AT', 'BE', 'BO', 'BR', 'BG', 'CA...</td>\n",
       "      <td>['Lil Baby', 'Gunna']</td>\n",
       "      <td>['5f7VJjfbwm532GiveGC0ZK', '2hlmm7s2ICUX0LVIhV...</td>\n",
       "      <td>2yXnY2NiaZk9QiJJittS81</td>\n",
       "      <td>Drip Harder</td>\n",
       "    </tr>\n",
       "    <tr>\n",
       "      <th>1</th>\n",
       "      <td>1</td>\n",
       "      <td>Freestyle</td>\n",
       "      <td>162053</td>\n",
       "      <td>True</td>\n",
       "      <td>84</td>\n",
       "      <td>13</td>\n",
       "      <td>['AR', 'AU', 'AT', 'BE', 'BO', 'BR', 'BG', 'CA...</td>\n",
       "      <td>['Lil Baby']</td>\n",
       "      <td>['5f7VJjfbwm532GiveGC0ZK']</td>\n",
       "      <td>750APP0eKVlcgOxaZnBnVt</td>\n",
       "      <td>Too Hard</td>\n",
       "    </tr>\n",
       "    <tr>\n",
       "      <th>2</th>\n",
       "      <td>2</td>\n",
       "      <td>Pure Cocaine</td>\n",
       "      <td>154023</td>\n",
       "      <td>True</td>\n",
       "      <td>83</td>\n",
       "      <td>2</td>\n",
       "      <td>['AR', 'AU', 'AT', 'BE', 'BO', 'BR', 'BG', 'CA...</td>\n",
       "      <td>['Lil Baby']</td>\n",
       "      <td>['5f7VJjfbwm532GiveGC0ZK']</td>\n",
       "      <td>4iF44RCCybJtkBkMoqrLW2</td>\n",
       "      <td>Street Gossip</td>\n",
       "    </tr>\n",
       "    <tr>\n",
       "      <th>3</th>\n",
       "      <td>3</td>\n",
       "      <td>Yes Indeed</td>\n",
       "      <td>142273</td>\n",
       "      <td>True</td>\n",
       "      <td>83</td>\n",
       "      <td>5</td>\n",
       "      <td>['AR', 'AU', 'AT', 'BE', 'BO', 'BR', 'BG', 'CA...</td>\n",
       "      <td>['Lil Baby', 'Drake']</td>\n",
       "      <td>['5f7VJjfbwm532GiveGC0ZK', '3TVXtAsR1Inumwj472...</td>\n",
       "      <td>7yf9ZJyHRbp8sHtpDKfPpt</td>\n",
       "      <td>Harder Than Ever</td>\n",
       "    </tr>\n",
       "    <tr>\n",
       "      <th>4</th>\n",
       "      <td>4</td>\n",
       "      <td>Low Down</td>\n",
       "      <td>144651</td>\n",
       "      <td>True</td>\n",
       "      <td>81</td>\n",
       "      <td>23</td>\n",
       "      <td>['AR', 'AU', 'AT', 'BE', 'BO', 'BR', 'BG', 'CA...</td>\n",
       "      <td>['Lil Baby']</td>\n",
       "      <td>['5f7VJjfbwm532GiveGC0ZK']</td>\n",
       "      <td>6uhEg4ASZYLIilZFCBFy1r</td>\n",
       "      <td>My Turn (Deluxe)</td>\n",
       "    </tr>\n",
       "  </tbody>\n",
       "</table>\n",
       "</div>"
      ],
      "text/plain": [
       "   Unnamed: 0                        track_name  duration_ms  explicit  \\\n",
       "0           0  Drip Too Hard (Lil Baby & Gunna)       145542      True   \n",
       "1           1                         Freestyle       162053      True   \n",
       "2           2                      Pure Cocaine       154023      True   \n",
       "3           3                        Yes Indeed       142273      True   \n",
       "4           4                          Low Down       144651      True   \n",
       "\n",
       "   popularity  track_number  \\\n",
       "0          85            12   \n",
       "1          84            13   \n",
       "2          83             2   \n",
       "3          83             5   \n",
       "4          81            23   \n",
       "\n",
       "                                   available_markets           artists_name  \\\n",
       "0  ['AR', 'AU', 'AT', 'BE', 'BO', 'BR', 'BG', 'CA...  ['Lil Baby', 'Gunna']   \n",
       "1  ['AR', 'AU', 'AT', 'BE', 'BO', 'BR', 'BG', 'CA...           ['Lil Baby']   \n",
       "2  ['AR', 'AU', 'AT', 'BE', 'BO', 'BR', 'BG', 'CA...           ['Lil Baby']   \n",
       "3  ['AR', 'AU', 'AT', 'BE', 'BO', 'BR', 'BG', 'CA...  ['Lil Baby', 'Drake']   \n",
       "4  ['AR', 'AU', 'AT', 'BE', 'BO', 'BR', 'BG', 'CA...           ['Lil Baby']   \n",
       "\n",
       "                                          artists_id                album_id  \\\n",
       "0  ['5f7VJjfbwm532GiveGC0ZK', '2hlmm7s2ICUX0LVIhV...  2yXnY2NiaZk9QiJJittS81   \n",
       "1                         ['5f7VJjfbwm532GiveGC0ZK']  750APP0eKVlcgOxaZnBnVt   \n",
       "2                         ['5f7VJjfbwm532GiveGC0ZK']  4iF44RCCybJtkBkMoqrLW2   \n",
       "3  ['5f7VJjfbwm532GiveGC0ZK', '3TVXtAsR1Inumwj472...  7yf9ZJyHRbp8sHtpDKfPpt   \n",
       "4                         ['5f7VJjfbwm532GiveGC0ZK']  6uhEg4ASZYLIilZFCBFy1r   \n",
       "\n",
       "         album_name  \n",
       "0       Drip Harder  \n",
       "1          Too Hard  \n",
       "2     Street Gossip  \n",
       "3  Harder Than Ever  \n",
       "4  My Turn (Deluxe)  "
      ]
     },
     "execution_count": 130,
     "metadata": {},
     "output_type": "execute_result"
    }
   ],
   "source": [
    "track.head()"
   ]
  },
  {
   "cell_type": "code",
   "execution_count": 131,
   "metadata": {},
   "outputs": [
    {
     "data": {
      "text/html": [
       "<div>\n",
       "<style scoped>\n",
       "    .dataframe tbody tr th:only-of-type {\n",
       "        vertical-align: middle;\n",
       "    }\n",
       "\n",
       "    .dataframe tbody tr th {\n",
       "        vertical-align: top;\n",
       "    }\n",
       "\n",
       "    .dataframe thead th {\n",
       "        text-align: right;\n",
       "    }\n",
       "</style>\n",
       "<table border=\"1\" class=\"dataframe\">\n",
       "  <thead>\n",
       "    <tr style=\"text-align: right;\">\n",
       "      <th></th>\n",
       "      <th>Unnamed: 0</th>\n",
       "      <th>id</th>\n",
       "      <th>name</th>\n",
       "      <th>type</th>\n",
       "      <th>release_date</th>\n",
       "      <th>available_markets</th>\n",
       "      <th>total_tracks</th>\n",
       "      <th>label</th>\n",
       "      <th>popularity</th>\n",
       "      <th>artist_name</th>\n",
       "      <th>artist_id</th>\n",
       "    </tr>\n",
       "  </thead>\n",
       "  <tbody>\n",
       "    <tr>\n",
       "      <th>0</th>\n",
       "      <td>0</td>\n",
       "      <td>0FYvMdfTfYJxnJnKs1wDb0</td>\n",
       "      <td>It's Only Me</td>\n",
       "      <td>album</td>\n",
       "      <td>2022-10-14</td>\n",
       "      <td>['AD', 'AE', 'AG', 'AL', 'AM', 'AO', 'AR', 'AT...</td>\n",
       "      <td>23</td>\n",
       "      <td>Quality Control Music/Motown Records</td>\n",
       "      <td>77</td>\n",
       "      <td>['Lil Baby']</td>\n",
       "      <td>['5f7VJjfbwm532GiveGC0ZK']</td>\n",
       "    </tr>\n",
       "    <tr>\n",
       "      <th>1</th>\n",
       "      <td>1</td>\n",
       "      <td>2yXnY2NiaZk9QiJJittS81</td>\n",
       "      <td>Drip Harder</td>\n",
       "      <td>album</td>\n",
       "      <td>2018-10-05</td>\n",
       "      <td>['AD', 'AE', 'AG', 'AL', 'AM', 'AO', 'AR', 'AT...</td>\n",
       "      <td>13</td>\n",
       "      <td>Quality Control Music/Young Stoner Life Record...</td>\n",
       "      <td>77</td>\n",
       "      <td>['Lil Baby', 'Gunna']</td>\n",
       "      <td>['5f7VJjfbwm532GiveGC0ZK', '2hlmm7s2ICUX0LVIhV...</td>\n",
       "    </tr>\n",
       "    <tr>\n",
       "      <th>2</th>\n",
       "      <td>2</td>\n",
       "      <td>7yf9ZJyHRbp8sHtpDKfPpt</td>\n",
       "      <td>Harder Than Ever</td>\n",
       "      <td>album</td>\n",
       "      <td>2018-05-18</td>\n",
       "      <td>['AD', 'AE', 'AG', 'AL', 'AM', 'AO', 'AR', 'AT...</td>\n",
       "      <td>17</td>\n",
       "      <td>Quality Control Music, LLC</td>\n",
       "      <td>76</td>\n",
       "      <td>['Lil Baby']</td>\n",
       "      <td>['5f7VJjfbwm532GiveGC0ZK']</td>\n",
       "    </tr>\n",
       "    <tr>\n",
       "      <th>3</th>\n",
       "      <td>3</td>\n",
       "      <td>4iF44RCCybJtkBkMoqrLW2</td>\n",
       "      <td>Street Gossip</td>\n",
       "      <td>album</td>\n",
       "      <td>2018-11-30</td>\n",
       "      <td>['AD', 'AE', 'AG', 'AL', 'AM', 'AO', 'AR', 'AT...</td>\n",
       "      <td>13</td>\n",
       "      <td>Quality Control Music/Motown Records/Capitol R...</td>\n",
       "      <td>75</td>\n",
       "      <td>['Lil Baby']</td>\n",
       "      <td>['5f7VJjfbwm532GiveGC0ZK']</td>\n",
       "    </tr>\n",
       "    <tr>\n",
       "      <th>4</th>\n",
       "      <td>4</td>\n",
       "      <td>6uhEg4ASZYLIilZFCBFy1r</td>\n",
       "      <td>My Turn (Deluxe)</td>\n",
       "      <td>album</td>\n",
       "      <td>2020-05-01</td>\n",
       "      <td>['AD', 'AE', 'AG', 'AL', 'AM', 'AO', 'AR', 'AT...</td>\n",
       "      <td>26</td>\n",
       "      <td>Quality Control/Motown Records</td>\n",
       "      <td>75</td>\n",
       "      <td>['Lil Baby']</td>\n",
       "      <td>['5f7VJjfbwm532GiveGC0ZK']</td>\n",
       "    </tr>\n",
       "  </tbody>\n",
       "</table>\n",
       "</div>"
      ],
      "text/plain": [
       "   Unnamed: 0                      id              name   type release_date  \\\n",
       "0           0  0FYvMdfTfYJxnJnKs1wDb0      It's Only Me  album   2022-10-14   \n",
       "1           1  2yXnY2NiaZk9QiJJittS81       Drip Harder  album   2018-10-05   \n",
       "2           2  7yf9ZJyHRbp8sHtpDKfPpt  Harder Than Ever  album   2018-05-18   \n",
       "3           3  4iF44RCCybJtkBkMoqrLW2     Street Gossip  album   2018-11-30   \n",
       "4           4  6uhEg4ASZYLIilZFCBFy1r  My Turn (Deluxe)  album   2020-05-01   \n",
       "\n",
       "                                   available_markets  total_tracks  \\\n",
       "0  ['AD', 'AE', 'AG', 'AL', 'AM', 'AO', 'AR', 'AT...            23   \n",
       "1  ['AD', 'AE', 'AG', 'AL', 'AM', 'AO', 'AR', 'AT...            13   \n",
       "2  ['AD', 'AE', 'AG', 'AL', 'AM', 'AO', 'AR', 'AT...            17   \n",
       "3  ['AD', 'AE', 'AG', 'AL', 'AM', 'AO', 'AR', 'AT...            13   \n",
       "4  ['AD', 'AE', 'AG', 'AL', 'AM', 'AO', 'AR', 'AT...            26   \n",
       "\n",
       "                                               label  popularity  \\\n",
       "0               Quality Control Music/Motown Records          77   \n",
       "1  Quality Control Music/Young Stoner Life Record...          77   \n",
       "2                         Quality Control Music, LLC          76   \n",
       "3  Quality Control Music/Motown Records/Capitol R...          75   \n",
       "4                     Quality Control/Motown Records          75   \n",
       "\n",
       "             artist_name                                          artist_id  \n",
       "0           ['Lil Baby']                         ['5f7VJjfbwm532GiveGC0ZK']  \n",
       "1  ['Lil Baby', 'Gunna']  ['5f7VJjfbwm532GiveGC0ZK', '2hlmm7s2ICUX0LVIhV...  \n",
       "2           ['Lil Baby']                         ['5f7VJjfbwm532GiveGC0ZK']  \n",
       "3           ['Lil Baby']                         ['5f7VJjfbwm532GiveGC0ZK']  \n",
       "4           ['Lil Baby']                         ['5f7VJjfbwm532GiveGC0ZK']  "
      ]
     },
     "execution_count": 131,
     "metadata": {},
     "output_type": "execute_result"
    }
   ],
   "source": [
    "album.head()"
   ]
  },
  {
   "cell_type": "code",
   "execution_count": 132,
   "metadata": {},
   "outputs": [],
   "source": [
    "#delete unnecesary column\n",
    "track = track.drop('Unnamed: 0', axis = 1)\n",
    "album = album.drop('Unnamed: 0', axis = 1)"
   ]
  },
  {
   "cell_type": "code",
   "execution_count": 133,
   "metadata": {},
   "outputs": [
    {
     "name": "stdout",
     "output_type": "stream",
     "text": [
      "<class 'pandas.core.frame.DataFrame'>\n",
      "RangeIndex: 950 entries, 0 to 949\n",
      "Data columns (total 10 columns):\n",
      " #   Column             Non-Null Count  Dtype \n",
      "---  ------             --------------  ----- \n",
      " 0   track_name         950 non-null    object\n",
      " 1   duration_ms        950 non-null    int64 \n",
      " 2   explicit           950 non-null    bool  \n",
      " 3   popularity         950 non-null    int64 \n",
      " 4   track_number       950 non-null    int64 \n",
      " 5   available_markets  950 non-null    object\n",
      " 6   artists_name       950 non-null    object\n",
      " 7   artists_id         950 non-null    object\n",
      " 8   album_id           950 non-null    object\n",
      " 9   album_name         950 non-null    object\n",
      "dtypes: bool(1), int64(3), object(6)\n",
      "memory usage: 67.8+ KB\n"
     ]
    }
   ],
   "source": [
    "#quick view of the column type\n",
    "track.info()"
   ]
  },
  {
   "cell_type": "code",
   "execution_count": 134,
   "metadata": {},
   "outputs": [
    {
     "name": "stdout",
     "output_type": "stream",
     "text": [
      "<class 'pandas.core.frame.DataFrame'>\n",
      "RangeIndex: 150 entries, 0 to 149\n",
      "Data columns (total 10 columns):\n",
      " #   Column             Non-Null Count  Dtype \n",
      "---  ------             --------------  ----- \n",
      " 0   id                 150 non-null    object\n",
      " 1   name               150 non-null    object\n",
      " 2   type               150 non-null    object\n",
      " 3   release_date       150 non-null    object\n",
      " 4   available_markets  150 non-null    object\n",
      " 5   total_tracks       150 non-null    int64 \n",
      " 6   label              150 non-null    object\n",
      " 7   popularity         150 non-null    int64 \n",
      " 8   artist_name        150 non-null    object\n",
      " 9   artist_id          150 non-null    object\n",
      "dtypes: int64(2), object(8)\n",
      "memory usage: 11.8+ KB\n"
     ]
    }
   ],
   "source": [
    "#quick view of the column type\n",
    "album.info()"
   ]
  },
  {
   "cell_type": "code",
   "execution_count": 135,
   "metadata": {},
   "outputs": [],
   "source": [
    "track.rename(columns={'artists_name': 'artist_name', 'artists_id': 'artist_id'}, inplace=True) #remove the 's'"
   ]
  },
  {
   "cell_type": "code",
   "execution_count": 136,
   "metadata": {},
   "outputs": [
    {
     "name": "stderr",
     "output_type": "stream",
     "text": [
      "C:\\Users\\Acer\\AppData\\Local\\Temp\\ipykernel_584\\3211898948.py:6: FutureWarning:\n",
      "\n",
      "The default value of regex will change from True to False in a future version. In addition, single character regular expressions will *not* be treated as literal strings when regex=True.\n",
      "\n",
      "C:\\Users\\Acer\\AppData\\Local\\Temp\\ipykernel_584\\3211898948.py:8: FutureWarning:\n",
      "\n",
      "The default value of regex will change from True to False in a future version. In addition, single character regular expressions will *not* be treated as literal strings when regex=True.\n",
      "\n"
     ]
    }
   ],
   "source": [
    "#clean the artist_name, artist_id and available_markets columns in the 2 dataframe, because there are not in form of list\n",
    "char_to_strip = [\"[\", \"]\", \"'\",'\"']\n",
    "for char in char_to_strip : \n",
    "    for column in ['artist_name', 'artist_id', 'available_markets']:\n",
    "        #track\n",
    "        track[column] = track[column].str.replace(char, '')\n",
    "        #album\n",
    "        album[column] = album[column].str.replace(char, '')\n"
   ]
  },
  {
   "cell_type": "code",
   "execution_count": 137,
   "metadata": {},
   "outputs": [
    {
     "data": {
      "text/html": [
       "<div>\n",
       "<style scoped>\n",
       "    .dataframe tbody tr th:only-of-type {\n",
       "        vertical-align: middle;\n",
       "    }\n",
       "\n",
       "    .dataframe tbody tr th {\n",
       "        vertical-align: top;\n",
       "    }\n",
       "\n",
       "    .dataframe thead th {\n",
       "        text-align: right;\n",
       "    }\n",
       "</style>\n",
       "<table border=\"1\" class=\"dataframe\">\n",
       "  <thead>\n",
       "    <tr style=\"text-align: right;\">\n",
       "      <th></th>\n",
       "      <th>track_name</th>\n",
       "      <th>duration_ms</th>\n",
       "      <th>explicit</th>\n",
       "      <th>popularity</th>\n",
       "      <th>track_number</th>\n",
       "      <th>available_markets</th>\n",
       "      <th>artist_name</th>\n",
       "      <th>artist_id</th>\n",
       "      <th>album_id</th>\n",
       "      <th>album_name</th>\n",
       "    </tr>\n",
       "  </thead>\n",
       "  <tbody>\n",
       "    <tr>\n",
       "      <th>0</th>\n",
       "      <td>Drip Too Hard (Lil Baby &amp; Gunna)</td>\n",
       "      <td>145542</td>\n",
       "      <td>True</td>\n",
       "      <td>85</td>\n",
       "      <td>12</td>\n",
       "      <td>AR, AU, AT, BE, BO, BR, BG, CA, CL, CO, CR, CY...</td>\n",
       "      <td>Lil Baby, Gunna</td>\n",
       "      <td>5f7VJjfbwm532GiveGC0ZK, 2hlmm7s2ICUX0LVIhVFlZQ</td>\n",
       "      <td>2yXnY2NiaZk9QiJJittS81</td>\n",
       "      <td>Drip Harder</td>\n",
       "    </tr>\n",
       "    <tr>\n",
       "      <th>1</th>\n",
       "      <td>Freestyle</td>\n",
       "      <td>162053</td>\n",
       "      <td>True</td>\n",
       "      <td>84</td>\n",
       "      <td>13</td>\n",
       "      <td>AR, AU, AT, BE, BO, BR, BG, CA, CL, CO, CR, CY...</td>\n",
       "      <td>Lil Baby</td>\n",
       "      <td>5f7VJjfbwm532GiveGC0ZK</td>\n",
       "      <td>750APP0eKVlcgOxaZnBnVt</td>\n",
       "      <td>Too Hard</td>\n",
       "    </tr>\n",
       "    <tr>\n",
       "      <th>2</th>\n",
       "      <td>Pure Cocaine</td>\n",
       "      <td>154023</td>\n",
       "      <td>True</td>\n",
       "      <td>83</td>\n",
       "      <td>2</td>\n",
       "      <td>AR, AU, AT, BE, BO, BR, BG, CA, CL, CO, CR, CY...</td>\n",
       "      <td>Lil Baby</td>\n",
       "      <td>5f7VJjfbwm532GiveGC0ZK</td>\n",
       "      <td>4iF44RCCybJtkBkMoqrLW2</td>\n",
       "      <td>Street Gossip</td>\n",
       "    </tr>\n",
       "    <tr>\n",
       "      <th>3</th>\n",
       "      <td>Yes Indeed</td>\n",
       "      <td>142273</td>\n",
       "      <td>True</td>\n",
       "      <td>83</td>\n",
       "      <td>5</td>\n",
       "      <td>AR, AU, AT, BE, BO, BR, BG, CA, CL, CO, CR, CY...</td>\n",
       "      <td>Lil Baby, Drake</td>\n",
       "      <td>5f7VJjfbwm532GiveGC0ZK, 3TVXtAsR1Inumwj472S9r4</td>\n",
       "      <td>7yf9ZJyHRbp8sHtpDKfPpt</td>\n",
       "      <td>Harder Than Ever</td>\n",
       "    </tr>\n",
       "    <tr>\n",
       "      <th>4</th>\n",
       "      <td>Low Down</td>\n",
       "      <td>144651</td>\n",
       "      <td>True</td>\n",
       "      <td>81</td>\n",
       "      <td>23</td>\n",
       "      <td>AR, AU, AT, BE, BO, BR, BG, CA, CL, CO, CR, CY...</td>\n",
       "      <td>Lil Baby</td>\n",
       "      <td>5f7VJjfbwm532GiveGC0ZK</td>\n",
       "      <td>6uhEg4ASZYLIilZFCBFy1r</td>\n",
       "      <td>My Turn (Deluxe)</td>\n",
       "    </tr>\n",
       "  </tbody>\n",
       "</table>\n",
       "</div>"
      ],
      "text/plain": [
       "                         track_name  duration_ms  explicit  popularity  \\\n",
       "0  Drip Too Hard (Lil Baby & Gunna)       145542      True          85   \n",
       "1                         Freestyle       162053      True          84   \n",
       "2                      Pure Cocaine       154023      True          83   \n",
       "3                        Yes Indeed       142273      True          83   \n",
       "4                          Low Down       144651      True          81   \n",
       "\n",
       "   track_number                                  available_markets  \\\n",
       "0            12  AR, AU, AT, BE, BO, BR, BG, CA, CL, CO, CR, CY...   \n",
       "1            13  AR, AU, AT, BE, BO, BR, BG, CA, CL, CO, CR, CY...   \n",
       "2             2  AR, AU, AT, BE, BO, BR, BG, CA, CL, CO, CR, CY...   \n",
       "3             5  AR, AU, AT, BE, BO, BR, BG, CA, CL, CO, CR, CY...   \n",
       "4            23  AR, AU, AT, BE, BO, BR, BG, CA, CL, CO, CR, CY...   \n",
       "\n",
       "       artist_name                                       artist_id  \\\n",
       "0  Lil Baby, Gunna  5f7VJjfbwm532GiveGC0ZK, 2hlmm7s2ICUX0LVIhVFlZQ   \n",
       "1         Lil Baby                          5f7VJjfbwm532GiveGC0ZK   \n",
       "2         Lil Baby                          5f7VJjfbwm532GiveGC0ZK   \n",
       "3  Lil Baby, Drake  5f7VJjfbwm532GiveGC0ZK, 3TVXtAsR1Inumwj472S9r4   \n",
       "4         Lil Baby                          5f7VJjfbwm532GiveGC0ZK   \n",
       "\n",
       "                 album_id        album_name  \n",
       "0  2yXnY2NiaZk9QiJJittS81       Drip Harder  \n",
       "1  750APP0eKVlcgOxaZnBnVt          Too Hard  \n",
       "2  4iF44RCCybJtkBkMoqrLW2     Street Gossip  \n",
       "3  7yf9ZJyHRbp8sHtpDKfPpt  Harder Than Ever  \n",
       "4  6uhEg4ASZYLIilZFCBFy1r  My Turn (Deluxe)  "
      ]
     },
     "execution_count": 137,
     "metadata": {},
     "output_type": "execute_result"
    }
   ],
   "source": [
    "track.head()"
   ]
  },
  {
   "cell_type": "code",
   "execution_count": 138,
   "metadata": {},
   "outputs": [],
   "source": [
    "#remove tracks, and albums that don't belong to Lil baby\n",
    "\n",
    "#in tracks data\n",
    "for i in (range(track.shape[0])): \n",
    "    if \"Lil Baby\" not in track.loc[i, 'artist_name'].split(', '): \n",
    "        track = track.drop(i)\n",
    "track = track.reset_index(drop=True)\n",
    "\n",
    "#in albums data\n",
    "for i in range(album.shape[0]) : \n",
    "    if \"Lil Baby\" not in album.loc[i,'artist_name'].split(', '): \n",
    "        album = album.drop(i)\n",
    "album = album.reset_index(drop=True)"
   ]
  },
  {
   "cell_type": "code",
   "execution_count": 139,
   "metadata": {},
   "outputs": [],
   "source": [
    "# remove \"single\" type from the album data\n",
    "album = album[album['type'].str.contains('album')]\n",
    "album = album.reset_index(drop=True)"
   ]
  },
  {
   "cell_type": "code",
   "execution_count": 140,
   "metadata": {},
   "outputs": [],
   "source": [
    "#remove duplicated from the two datasets \n",
    "track = track.drop_duplicates(subset=['track_name'])\n",
    "track = track.reset_index(drop=True) #reset index \n",
    "\n",
    "album = album.drop_duplicates(subset=['name'])\n",
    "album = album.reset_index(drop=True) #reset index"
   ]
  },
  {
   "cell_type": "code",
   "execution_count": 141,
   "metadata": {},
   "outputs": [
    {
     "name": "stdout",
     "output_type": "stream",
     "text": [
      "No tracks: 199\n",
      "No albums: 11\n"
     ]
    }
   ],
   "source": [
    "print(f\"No tracks: {track.shape[0]}\\nNo albums: {album.shape[0]}\")"
   ]
  },
  {
   "cell_type": "markdown",
   "metadata": {},
   "source": [
    "### Top tracks and Top albums"
   ]
  },
  {
   "cell_type": "code",
   "execution_count": 142,
   "metadata": {},
   "outputs": [
    {
     "data": {
      "text/html": [
       "<div>\n",
       "<style scoped>\n",
       "    .dataframe tbody tr th:only-of-type {\n",
       "        vertical-align: middle;\n",
       "    }\n",
       "\n",
       "    .dataframe tbody tr th {\n",
       "        vertical-align: top;\n",
       "    }\n",
       "\n",
       "    .dataframe thead th {\n",
       "        text-align: right;\n",
       "    }\n",
       "</style>\n",
       "<table border=\"1\" class=\"dataframe\">\n",
       "  <thead>\n",
       "    <tr style=\"text-align: right;\">\n",
       "      <th></th>\n",
       "      <th>track_name</th>\n",
       "      <th>duration_ms</th>\n",
       "      <th>explicit</th>\n",
       "      <th>popularity</th>\n",
       "      <th>track_number</th>\n",
       "      <th>available_markets</th>\n",
       "      <th>artist_name</th>\n",
       "      <th>artist_id</th>\n",
       "      <th>album_id</th>\n",
       "      <th>album_name</th>\n",
       "    </tr>\n",
       "  </thead>\n",
       "  <tbody>\n",
       "    <tr>\n",
       "      <th>0</th>\n",
       "      <td>Drip Too Hard (Lil Baby &amp; Gunna)</td>\n",
       "      <td>145542</td>\n",
       "      <td>True</td>\n",
       "      <td>85</td>\n",
       "      <td>12</td>\n",
       "      <td>AR, AU, AT, BE, BO, BR, BG, CA, CL, CO, CR, CY...</td>\n",
       "      <td>Lil Baby, Gunna</td>\n",
       "      <td>5f7VJjfbwm532GiveGC0ZK, 2hlmm7s2ICUX0LVIhVFlZQ</td>\n",
       "      <td>2yXnY2NiaZk9QiJJittS81</td>\n",
       "      <td>Drip Harder</td>\n",
       "    </tr>\n",
       "    <tr>\n",
       "      <th>1</th>\n",
       "      <td>Freestyle</td>\n",
       "      <td>162053</td>\n",
       "      <td>True</td>\n",
       "      <td>84</td>\n",
       "      <td>13</td>\n",
       "      <td>AR, AU, AT, BE, BO, BR, BG, CA, CL, CO, CR, CY...</td>\n",
       "      <td>Lil Baby</td>\n",
       "      <td>5f7VJjfbwm532GiveGC0ZK</td>\n",
       "      <td>750APP0eKVlcgOxaZnBnVt</td>\n",
       "      <td>Too Hard</td>\n",
       "    </tr>\n",
       "    <tr>\n",
       "      <th>2</th>\n",
       "      <td>Pure Cocaine</td>\n",
       "      <td>154023</td>\n",
       "      <td>True</td>\n",
       "      <td>83</td>\n",
       "      <td>2</td>\n",
       "      <td>AR, AU, AT, BE, BO, BR, BG, CA, CL, CO, CR, CY...</td>\n",
       "      <td>Lil Baby</td>\n",
       "      <td>5f7VJjfbwm532GiveGC0ZK</td>\n",
       "      <td>4iF44RCCybJtkBkMoqrLW2</td>\n",
       "      <td>Street Gossip</td>\n",
       "    </tr>\n",
       "    <tr>\n",
       "      <th>3</th>\n",
       "      <td>Yes Indeed</td>\n",
       "      <td>142273</td>\n",
       "      <td>True</td>\n",
       "      <td>83</td>\n",
       "      <td>5</td>\n",
       "      <td>AR, AU, AT, BE, BO, BR, BG, CA, CL, CO, CR, CY...</td>\n",
       "      <td>Lil Baby, Drake</td>\n",
       "      <td>5f7VJjfbwm532GiveGC0ZK, 3TVXtAsR1Inumwj472S9r4</td>\n",
       "      <td>7yf9ZJyHRbp8sHtpDKfPpt</td>\n",
       "      <td>Harder Than Ever</td>\n",
       "    </tr>\n",
       "    <tr>\n",
       "      <th>4</th>\n",
       "      <td>Low Down</td>\n",
       "      <td>144651</td>\n",
       "      <td>True</td>\n",
       "      <td>81</td>\n",
       "      <td>23</td>\n",
       "      <td>AR, AU, AT, BE, BO, BR, BG, CA, CL, CO, CR, CY...</td>\n",
       "      <td>Lil Baby</td>\n",
       "      <td>5f7VJjfbwm532GiveGC0ZK</td>\n",
       "      <td>6uhEg4ASZYLIilZFCBFy1r</td>\n",
       "      <td>My Turn (Deluxe)</td>\n",
       "    </tr>\n",
       "  </tbody>\n",
       "</table>\n",
       "</div>"
      ],
      "text/plain": [
       "                         track_name  duration_ms  explicit  popularity  \\\n",
       "0  Drip Too Hard (Lil Baby & Gunna)       145542      True          85   \n",
       "1                         Freestyle       162053      True          84   \n",
       "2                      Pure Cocaine       154023      True          83   \n",
       "3                        Yes Indeed       142273      True          83   \n",
       "4                          Low Down       144651      True          81   \n",
       "\n",
       "   track_number                                  available_markets  \\\n",
       "0            12  AR, AU, AT, BE, BO, BR, BG, CA, CL, CO, CR, CY...   \n",
       "1            13  AR, AU, AT, BE, BO, BR, BG, CA, CL, CO, CR, CY...   \n",
       "2             2  AR, AU, AT, BE, BO, BR, BG, CA, CL, CO, CR, CY...   \n",
       "3             5  AR, AU, AT, BE, BO, BR, BG, CA, CL, CO, CR, CY...   \n",
       "4            23  AR, AU, AT, BE, BO, BR, BG, CA, CL, CO, CR, CY...   \n",
       "\n",
       "       artist_name                                       artist_id  \\\n",
       "0  Lil Baby, Gunna  5f7VJjfbwm532GiveGC0ZK, 2hlmm7s2ICUX0LVIhVFlZQ   \n",
       "1         Lil Baby                          5f7VJjfbwm532GiveGC0ZK   \n",
       "2         Lil Baby                          5f7VJjfbwm532GiveGC0ZK   \n",
       "3  Lil Baby, Drake  5f7VJjfbwm532GiveGC0ZK, 3TVXtAsR1Inumwj472S9r4   \n",
       "4         Lil Baby                          5f7VJjfbwm532GiveGC0ZK   \n",
       "\n",
       "                 album_id        album_name  \n",
       "0  2yXnY2NiaZk9QiJJittS81       Drip Harder  \n",
       "1  750APP0eKVlcgOxaZnBnVt          Too Hard  \n",
       "2  4iF44RCCybJtkBkMoqrLW2     Street Gossip  \n",
       "3  7yf9ZJyHRbp8sHtpDKfPpt  Harder Than Ever  \n",
       "4  6uhEg4ASZYLIilZFCBFy1r  My Turn (Deluxe)  "
      ]
     },
     "execution_count": 142,
     "metadata": {},
     "output_type": "execute_result"
    }
   ],
   "source": [
    "# best songs in term of popularity \n",
    "track.nlargest(5, 'popularity')"
   ]
  },
  {
   "cell_type": "markdown",
   "metadata": {},
   "source": [
    "Top Lil Baby's songs are Drip too hard, Freestyle, Pure cocaine, Yes indeed, Low Down "
   ]
  },
  {
   "cell_type": "code",
   "execution_count": 143,
   "metadata": {},
   "outputs": [
    {
     "data": {
      "text/html": [
       "<div>\n",
       "<style scoped>\n",
       "    .dataframe tbody tr th:only-of-type {\n",
       "        vertical-align: middle;\n",
       "    }\n",
       "\n",
       "    .dataframe tbody tr th {\n",
       "        vertical-align: top;\n",
       "    }\n",
       "\n",
       "    .dataframe thead th {\n",
       "        text-align: right;\n",
       "    }\n",
       "</style>\n",
       "<table border=\"1\" class=\"dataframe\">\n",
       "  <thead>\n",
       "    <tr style=\"text-align: right;\">\n",
       "      <th></th>\n",
       "      <th>id</th>\n",
       "      <th>name</th>\n",
       "      <th>type</th>\n",
       "      <th>release_date</th>\n",
       "      <th>available_markets</th>\n",
       "      <th>total_tracks</th>\n",
       "      <th>label</th>\n",
       "      <th>popularity</th>\n",
       "      <th>artist_name</th>\n",
       "      <th>artist_id</th>\n",
       "    </tr>\n",
       "  </thead>\n",
       "  <tbody>\n",
       "    <tr>\n",
       "      <th>0</th>\n",
       "      <td>0FYvMdfTfYJxnJnKs1wDb0</td>\n",
       "      <td>It's Only Me</td>\n",
       "      <td>album</td>\n",
       "      <td>2022-10-14</td>\n",
       "      <td>AD, AE, AG, AL, AM, AO, AR, AT, AU, AZ, BA, BB...</td>\n",
       "      <td>23</td>\n",
       "      <td>Quality Control Music/Motown Records</td>\n",
       "      <td>77</td>\n",
       "      <td>Lil Baby</td>\n",
       "      <td>5f7VJjfbwm532GiveGC0ZK</td>\n",
       "    </tr>\n",
       "    <tr>\n",
       "      <th>1</th>\n",
       "      <td>2yXnY2NiaZk9QiJJittS81</td>\n",
       "      <td>Drip Harder</td>\n",
       "      <td>album</td>\n",
       "      <td>2018-10-05</td>\n",
       "      <td>AD, AE, AG, AL, AM, AO, AR, AT, AU, AZ, BA, BB...</td>\n",
       "      <td>13</td>\n",
       "      <td>Quality Control Music/Young Stoner Life Record...</td>\n",
       "      <td>77</td>\n",
       "      <td>Lil Baby, Gunna</td>\n",
       "      <td>5f7VJjfbwm532GiveGC0ZK, 2hlmm7s2ICUX0LVIhVFlZQ</td>\n",
       "    </tr>\n",
       "    <tr>\n",
       "      <th>2</th>\n",
       "      <td>7yf9ZJyHRbp8sHtpDKfPpt</td>\n",
       "      <td>Harder Than Ever</td>\n",
       "      <td>album</td>\n",
       "      <td>2018-05-18</td>\n",
       "      <td>AD, AE, AG, AL, AM, AO, AR, AT, AU, AZ, BA, BB...</td>\n",
       "      <td>17</td>\n",
       "      <td>Quality Control Music, LLC</td>\n",
       "      <td>76</td>\n",
       "      <td>Lil Baby</td>\n",
       "      <td>5f7VJjfbwm532GiveGC0ZK</td>\n",
       "    </tr>\n",
       "    <tr>\n",
       "      <th>3</th>\n",
       "      <td>4iF44RCCybJtkBkMoqrLW2</td>\n",
       "      <td>Street Gossip</td>\n",
       "      <td>album</td>\n",
       "      <td>2018-11-30</td>\n",
       "      <td>AD, AE, AG, AL, AM, AO, AR, AT, AU, AZ, BA, BB...</td>\n",
       "      <td>13</td>\n",
       "      <td>Quality Control Music/Motown Records/Capitol R...</td>\n",
       "      <td>75</td>\n",
       "      <td>Lil Baby</td>\n",
       "      <td>5f7VJjfbwm532GiveGC0ZK</td>\n",
       "    </tr>\n",
       "    <tr>\n",
       "      <th>4</th>\n",
       "      <td>6uhEg4ASZYLIilZFCBFy1r</td>\n",
       "      <td>My Turn (Deluxe)</td>\n",
       "      <td>album</td>\n",
       "      <td>2020-05-01</td>\n",
       "      <td>AD, AE, AG, AL, AM, AO, AR, AT, AU, AZ, BA, BB...</td>\n",
       "      <td>26</td>\n",
       "      <td>Quality Control/Motown Records</td>\n",
       "      <td>75</td>\n",
       "      <td>Lil Baby</td>\n",
       "      <td>5f7VJjfbwm532GiveGC0ZK</td>\n",
       "    </tr>\n",
       "  </tbody>\n",
       "</table>\n",
       "</div>"
      ],
      "text/plain": [
       "                       id              name   type release_date  \\\n",
       "0  0FYvMdfTfYJxnJnKs1wDb0      It's Only Me  album   2022-10-14   \n",
       "1  2yXnY2NiaZk9QiJJittS81       Drip Harder  album   2018-10-05   \n",
       "2  7yf9ZJyHRbp8sHtpDKfPpt  Harder Than Ever  album   2018-05-18   \n",
       "3  4iF44RCCybJtkBkMoqrLW2     Street Gossip  album   2018-11-30   \n",
       "4  6uhEg4ASZYLIilZFCBFy1r  My Turn (Deluxe)  album   2020-05-01   \n",
       "\n",
       "                                   available_markets  total_tracks  \\\n",
       "0  AD, AE, AG, AL, AM, AO, AR, AT, AU, AZ, BA, BB...            23   \n",
       "1  AD, AE, AG, AL, AM, AO, AR, AT, AU, AZ, BA, BB...            13   \n",
       "2  AD, AE, AG, AL, AM, AO, AR, AT, AU, AZ, BA, BB...            17   \n",
       "3  AD, AE, AG, AL, AM, AO, AR, AT, AU, AZ, BA, BB...            13   \n",
       "4  AD, AE, AG, AL, AM, AO, AR, AT, AU, AZ, BA, BB...            26   \n",
       "\n",
       "                                               label  popularity  \\\n",
       "0               Quality Control Music/Motown Records          77   \n",
       "1  Quality Control Music/Young Stoner Life Record...          77   \n",
       "2                         Quality Control Music, LLC          76   \n",
       "3  Quality Control Music/Motown Records/Capitol R...          75   \n",
       "4                     Quality Control/Motown Records          75   \n",
       "\n",
       "       artist_name                                       artist_id  \n",
       "0         Lil Baby                          5f7VJjfbwm532GiveGC0ZK  \n",
       "1  Lil Baby, Gunna  5f7VJjfbwm532GiveGC0ZK, 2hlmm7s2ICUX0LVIhVFlZQ  \n",
       "2         Lil Baby                          5f7VJjfbwm532GiveGC0ZK  \n",
       "3         Lil Baby                          5f7VJjfbwm532GiveGC0ZK  \n",
       "4         Lil Baby                          5f7VJjfbwm532GiveGC0ZK  "
      ]
     },
     "execution_count": 143,
     "metadata": {},
     "output_type": "execute_result"
    }
   ],
   "source": [
    "# best albums \n",
    "album.nlargest(5, 'popularity')"
   ]
  },
  {
   "cell_type": "markdown",
   "metadata": {},
   "source": [
    "Top Lil baby's albums are It's only me, Drip Harder, Harder Than Ever, Street Gossip and My turn(Deluxe)"
   ]
  },
  {
   "cell_type": "markdown",
   "metadata": {},
   "source": [
    "### Frequency of featuring artists with Lil Baby"
   ]
  },
  {
   "cell_type": "code",
   "execution_count": 144,
   "metadata": {},
   "outputs": [
    {
     "data": {
      "text/plain": [
       "{'Gunna': 18,\n",
       " 'Drake': 2,\n",
       " 'Lil Durk': 23,\n",
       " 'Polo G': 1,\n",
       " 'Lil Uzi Vert': 2,\n",
       " '42 Dugg': 4,\n",
       " 'Fridayy': 1,\n",
       " 'Young Thug': 9,\n",
       " 'Nardo Wick': 1,\n",
       " 'Travis Scott': 1,\n",
       " 'EST Gee': 2,\n",
       " 'Veeze': 1,\n",
       " 'Moneybagg Yo': 3,\n",
       " 'Future': 3,\n",
       " 'NAV': 1,\n",
       " 'Pooh Shiesty': 1,\n",
       " 'Meek Mill': 2,\n",
       " 'Gucci Mane': 2,\n",
       " 'Offset': 3,\n",
       " 'Rod Wave': 1,\n",
       " 'Lil Dann': 2,\n",
       " 'Rylo Rodriguez': 3,\n",
       " 'Lil Wayne': 2,\n",
       " 'Big Sean': 1,\n",
       " 'Lil Tjay': 1,\n",
       " 'Starlito': 1,\n",
       " 'Jeremih': 1,\n",
       " 'Megan Thee Stallion': 2,\n",
       " 'Lil Yachty': 6,\n",
       " 'NoCap': 1,\n",
       " 'Lil Keed': 1,\n",
       " 'Young Dolph': 1,\n",
       " '2 Chainz': 1,\n",
       " 'Lil Mosey': 2,\n",
       " 'Kirk Franklin': 2,\n",
       " 'HoodRich Pablo Juan': 1,\n",
       " 'Lil Kee': 1,\n",
       " 'Marlo': 11,\n",
       " 'The Martinez Brothers': 1,\n",
       " 'Lil Gotit': 1,\n",
       " '4PF DT': 1,\n",
       " 'Ryan Adams': 2,\n",
       " 'Skull-E': 1,\n",
       " 'Telvis Lawler Jr': 1,\n",
       " 'TK Kravitz': 1,\n",
       " 'Ali Tomineek': 1,\n",
       " 'Shad On The Beat': 1,\n",
       " 'Lil Muk': 1,\n",
       " 'YXNG K.A': 1,\n",
       " 'Bite Da Don': 1,\n",
       " 'PnB Rock': 1,\n",
       " 'Lil Zack': 1,\n",
       " 'Lil Bam': 1,\n",
       " 'Duke': 1,\n",
       " 'Yogi': 2,\n",
       " 'Young Scooter': 1,\n",
       " 'Lil Jairmy': 1,\n",
       " 'Big36oz': 1,\n",
       " 'Kollision': 1,\n",
       " 'Yella Beezy': 1,\n",
       " 'Slap': 1}"
      ]
     },
     "execution_count": 144,
     "metadata": {},
     "output_type": "execute_result"
    }
   ],
   "source": [
    "#best featuring \n",
    "artist_frequency = {}\n",
    "\n",
    "# Iterate through each row in the DataFrame\n",
    "for index, row in track.iterrows():\n",
    "    artists = row['artist_name'].split(', ')\n",
    "    if 'Lil Baby' in artists:\n",
    "        artists.remove('Lil Baby')  # Remove Lil Baby from the list\n",
    "        for artist in artists:\n",
    "            if artist in artist_frequency:\n",
    "                artist_frequency[artist] += 1\n",
    "            else:\n",
    "                artist_frequency[artist] = 1\n",
    "artist_frequency"
   ]
  },
  {
   "cell_type": "code",
   "execution_count": 145,
   "metadata": {},
   "outputs": [],
   "source": [
    "# Convert the dictionary to a DataFrame\n",
    "artist_df = pd.DataFrame(list(artist_frequency.items()), columns=['featuring_artist', 'frequency'])\n",
    "\n",
    "# Sort the DataFrame by frequency\n",
    "artist_df = artist_df.sort_values(by='frequency', ascending=False)\n",
    "\n",
    "#reset index \n",
    "artist_df = artist_df.reset_index(drop=True)"
   ]
  },
  {
   "cell_type": "code",
   "execution_count": 146,
   "metadata": {},
   "outputs": [
    {
     "data": {
      "text/html": [
       "<div>\n",
       "<style scoped>\n",
       "    .dataframe tbody tr th:only-of-type {\n",
       "        vertical-align: middle;\n",
       "    }\n",
       "\n",
       "    .dataframe tbody tr th {\n",
       "        vertical-align: top;\n",
       "    }\n",
       "\n",
       "    .dataframe thead th {\n",
       "        text-align: right;\n",
       "    }\n",
       "</style>\n",
       "<table border=\"1\" class=\"dataframe\">\n",
       "  <thead>\n",
       "    <tr style=\"text-align: right;\">\n",
       "      <th></th>\n",
       "      <th>featuring_artist</th>\n",
       "      <th>frequency</th>\n",
       "    </tr>\n",
       "  </thead>\n",
       "  <tbody>\n",
       "    <tr>\n",
       "      <th>0</th>\n",
       "      <td>Lil Durk</td>\n",
       "      <td>23</td>\n",
       "    </tr>\n",
       "    <tr>\n",
       "      <th>1</th>\n",
       "      <td>Gunna</td>\n",
       "      <td>18</td>\n",
       "    </tr>\n",
       "    <tr>\n",
       "      <th>2</th>\n",
       "      <td>Marlo</td>\n",
       "      <td>11</td>\n",
       "    </tr>\n",
       "    <tr>\n",
       "      <th>3</th>\n",
       "      <td>Young Thug</td>\n",
       "      <td>9</td>\n",
       "    </tr>\n",
       "    <tr>\n",
       "      <th>4</th>\n",
       "      <td>Lil Yachty</td>\n",
       "      <td>6</td>\n",
       "    </tr>\n",
       "  </tbody>\n",
       "</table>\n",
       "</div>"
      ],
      "text/plain": [
       "  featuring_artist  frequency\n",
       "0         Lil Durk         23\n",
       "1            Gunna         18\n",
       "2            Marlo         11\n",
       "3       Young Thug          9\n",
       "4       Lil Yachty          6"
      ]
     },
     "execution_count": 146,
     "metadata": {},
     "output_type": "execute_result"
    }
   ],
   "source": [
    "artist_df.head()"
   ]
  },
  {
   "cell_type": "code",
   "execution_count": 147,
   "metadata": {},
   "outputs": [
    {
     "data": {
      "application/vnd.plotly.v1+json": {
       "config": {
        "plotlyServerURL": "https://plot.ly"
       },
       "data": [
        {
         "alignmentgroup": "True",
         "hovertemplate": "featuring_artist=%{x}<br>frequency=%{y}<extra></extra>",
         "legendgroup": "",
         "marker": {
          "color": "#1F77B4",
          "pattern": {
           "shape": ""
          }
         },
         "name": "",
         "offsetgroup": "",
         "orientation": "v",
         "showlegend": false,
         "textposition": "auto",
         "type": "bar",
         "x": [
          "Lil Durk",
          "Gunna",
          "Marlo",
          "Young Thug",
          "Lil Yachty",
          "42 Dugg",
          "Moneybagg Yo",
          "Future",
          "Rylo Rodriguez",
          "Offset"
         ],
         "xaxis": "x",
         "y": [
          23,
          18,
          11,
          9,
          6,
          4,
          3,
          3,
          3,
          3
         ],
         "yaxis": "y"
        }
       ],
       "layout": {
        "barmode": "relative",
        "legend": {
         "tracegroupgap": 0
        },
        "margin": {
         "t": 60
        },
        "template": {
         "data": {
          "bar": [
           {
            "error_x": {
             "color": "rgb(36,36,36)"
            },
            "error_y": {
             "color": "rgb(36,36,36)"
            },
            "marker": {
             "line": {
              "color": "white",
              "width": 0.5
             },
             "pattern": {
              "fillmode": "overlay",
              "size": 10,
              "solidity": 0.2
             }
            },
            "type": "bar"
           }
          ],
          "barpolar": [
           {
            "marker": {
             "line": {
              "color": "white",
              "width": 0.5
             },
             "pattern": {
              "fillmode": "overlay",
              "size": 10,
              "solidity": 0.2
             }
            },
            "type": "barpolar"
           }
          ],
          "carpet": [
           {
            "aaxis": {
             "endlinecolor": "rgb(36,36,36)",
             "gridcolor": "white",
             "linecolor": "white",
             "minorgridcolor": "white",
             "startlinecolor": "rgb(36,36,36)"
            },
            "baxis": {
             "endlinecolor": "rgb(36,36,36)",
             "gridcolor": "white",
             "linecolor": "white",
             "minorgridcolor": "white",
             "startlinecolor": "rgb(36,36,36)"
            },
            "type": "carpet"
           }
          ],
          "choropleth": [
           {
            "colorbar": {
             "outlinewidth": 1,
             "tickcolor": "rgb(36,36,36)",
             "ticks": "outside"
            },
            "type": "choropleth"
           }
          ],
          "contour": [
           {
            "colorbar": {
             "outlinewidth": 1,
             "tickcolor": "rgb(36,36,36)",
             "ticks": "outside"
            },
            "colorscale": [
             [
              0,
              "#440154"
             ],
             [
              0.1111111111111111,
              "#482878"
             ],
             [
              0.2222222222222222,
              "#3e4989"
             ],
             [
              0.3333333333333333,
              "#31688e"
             ],
             [
              0.4444444444444444,
              "#26828e"
             ],
             [
              0.5555555555555556,
              "#1f9e89"
             ],
             [
              0.6666666666666666,
              "#35b779"
             ],
             [
              0.7777777777777778,
              "#6ece58"
             ],
             [
              0.8888888888888888,
              "#b5de2b"
             ],
             [
              1,
              "#fde725"
             ]
            ],
            "type": "contour"
           }
          ],
          "contourcarpet": [
           {
            "colorbar": {
             "outlinewidth": 1,
             "tickcolor": "rgb(36,36,36)",
             "ticks": "outside"
            },
            "type": "contourcarpet"
           }
          ],
          "heatmap": [
           {
            "colorbar": {
             "outlinewidth": 1,
             "tickcolor": "rgb(36,36,36)",
             "ticks": "outside"
            },
            "colorscale": [
             [
              0,
              "#440154"
             ],
             [
              0.1111111111111111,
              "#482878"
             ],
             [
              0.2222222222222222,
              "#3e4989"
             ],
             [
              0.3333333333333333,
              "#31688e"
             ],
             [
              0.4444444444444444,
              "#26828e"
             ],
             [
              0.5555555555555556,
              "#1f9e89"
             ],
             [
              0.6666666666666666,
              "#35b779"
             ],
             [
              0.7777777777777778,
              "#6ece58"
             ],
             [
              0.8888888888888888,
              "#b5de2b"
             ],
             [
              1,
              "#fde725"
             ]
            ],
            "type": "heatmap"
           }
          ],
          "heatmapgl": [
           {
            "colorbar": {
             "outlinewidth": 1,
             "tickcolor": "rgb(36,36,36)",
             "ticks": "outside"
            },
            "colorscale": [
             [
              0,
              "#440154"
             ],
             [
              0.1111111111111111,
              "#482878"
             ],
             [
              0.2222222222222222,
              "#3e4989"
             ],
             [
              0.3333333333333333,
              "#31688e"
             ],
             [
              0.4444444444444444,
              "#26828e"
             ],
             [
              0.5555555555555556,
              "#1f9e89"
             ],
             [
              0.6666666666666666,
              "#35b779"
             ],
             [
              0.7777777777777778,
              "#6ece58"
             ],
             [
              0.8888888888888888,
              "#b5de2b"
             ],
             [
              1,
              "#fde725"
             ]
            ],
            "type": "heatmapgl"
           }
          ],
          "histogram": [
           {
            "marker": {
             "line": {
              "color": "white",
              "width": 0.6
             }
            },
            "type": "histogram"
           }
          ],
          "histogram2d": [
           {
            "colorbar": {
             "outlinewidth": 1,
             "tickcolor": "rgb(36,36,36)",
             "ticks": "outside"
            },
            "colorscale": [
             [
              0,
              "#440154"
             ],
             [
              0.1111111111111111,
              "#482878"
             ],
             [
              0.2222222222222222,
              "#3e4989"
             ],
             [
              0.3333333333333333,
              "#31688e"
             ],
             [
              0.4444444444444444,
              "#26828e"
             ],
             [
              0.5555555555555556,
              "#1f9e89"
             ],
             [
              0.6666666666666666,
              "#35b779"
             ],
             [
              0.7777777777777778,
              "#6ece58"
             ],
             [
              0.8888888888888888,
              "#b5de2b"
             ],
             [
              1,
              "#fde725"
             ]
            ],
            "type": "histogram2d"
           }
          ],
          "histogram2dcontour": [
           {
            "colorbar": {
             "outlinewidth": 1,
             "tickcolor": "rgb(36,36,36)",
             "ticks": "outside"
            },
            "colorscale": [
             [
              0,
              "#440154"
             ],
             [
              0.1111111111111111,
              "#482878"
             ],
             [
              0.2222222222222222,
              "#3e4989"
             ],
             [
              0.3333333333333333,
              "#31688e"
             ],
             [
              0.4444444444444444,
              "#26828e"
             ],
             [
              0.5555555555555556,
              "#1f9e89"
             ],
             [
              0.6666666666666666,
              "#35b779"
             ],
             [
              0.7777777777777778,
              "#6ece58"
             ],
             [
              0.8888888888888888,
              "#b5de2b"
             ],
             [
              1,
              "#fde725"
             ]
            ],
            "type": "histogram2dcontour"
           }
          ],
          "mesh3d": [
           {
            "colorbar": {
             "outlinewidth": 1,
             "tickcolor": "rgb(36,36,36)",
             "ticks": "outside"
            },
            "type": "mesh3d"
           }
          ],
          "parcoords": [
           {
            "line": {
             "colorbar": {
              "outlinewidth": 1,
              "tickcolor": "rgb(36,36,36)",
              "ticks": "outside"
             }
            },
            "type": "parcoords"
           }
          ],
          "pie": [
           {
            "automargin": true,
            "type": "pie"
           }
          ],
          "scatter": [
           {
            "fillpattern": {
             "fillmode": "overlay",
             "size": 10,
             "solidity": 0.2
            },
            "type": "scatter"
           }
          ],
          "scatter3d": [
           {
            "line": {
             "colorbar": {
              "outlinewidth": 1,
              "tickcolor": "rgb(36,36,36)",
              "ticks": "outside"
             }
            },
            "marker": {
             "colorbar": {
              "outlinewidth": 1,
              "tickcolor": "rgb(36,36,36)",
              "ticks": "outside"
             }
            },
            "type": "scatter3d"
           }
          ],
          "scattercarpet": [
           {
            "marker": {
             "colorbar": {
              "outlinewidth": 1,
              "tickcolor": "rgb(36,36,36)",
              "ticks": "outside"
             }
            },
            "type": "scattercarpet"
           }
          ],
          "scattergeo": [
           {
            "marker": {
             "colorbar": {
              "outlinewidth": 1,
              "tickcolor": "rgb(36,36,36)",
              "ticks": "outside"
             }
            },
            "type": "scattergeo"
           }
          ],
          "scattergl": [
           {
            "marker": {
             "colorbar": {
              "outlinewidth": 1,
              "tickcolor": "rgb(36,36,36)",
              "ticks": "outside"
             }
            },
            "type": "scattergl"
           }
          ],
          "scattermapbox": [
           {
            "marker": {
             "colorbar": {
              "outlinewidth": 1,
              "tickcolor": "rgb(36,36,36)",
              "ticks": "outside"
             }
            },
            "type": "scattermapbox"
           }
          ],
          "scatterpolar": [
           {
            "marker": {
             "colorbar": {
              "outlinewidth": 1,
              "tickcolor": "rgb(36,36,36)",
              "ticks": "outside"
             }
            },
            "type": "scatterpolar"
           }
          ],
          "scatterpolargl": [
           {
            "marker": {
             "colorbar": {
              "outlinewidth": 1,
              "tickcolor": "rgb(36,36,36)",
              "ticks": "outside"
             }
            },
            "type": "scatterpolargl"
           }
          ],
          "scatterternary": [
           {
            "marker": {
             "colorbar": {
              "outlinewidth": 1,
              "tickcolor": "rgb(36,36,36)",
              "ticks": "outside"
             }
            },
            "type": "scatterternary"
           }
          ],
          "surface": [
           {
            "colorbar": {
             "outlinewidth": 1,
             "tickcolor": "rgb(36,36,36)",
             "ticks": "outside"
            },
            "colorscale": [
             [
              0,
              "#440154"
             ],
             [
              0.1111111111111111,
              "#482878"
             ],
             [
              0.2222222222222222,
              "#3e4989"
             ],
             [
              0.3333333333333333,
              "#31688e"
             ],
             [
              0.4444444444444444,
              "#26828e"
             ],
             [
              0.5555555555555556,
              "#1f9e89"
             ],
             [
              0.6666666666666666,
              "#35b779"
             ],
             [
              0.7777777777777778,
              "#6ece58"
             ],
             [
              0.8888888888888888,
              "#b5de2b"
             ],
             [
              1,
              "#fde725"
             ]
            ],
            "type": "surface"
           }
          ],
          "table": [
           {
            "cells": {
             "fill": {
              "color": "rgb(237,237,237)"
             },
             "line": {
              "color": "white"
             }
            },
            "header": {
             "fill": {
              "color": "rgb(217,217,217)"
             },
             "line": {
              "color": "white"
             }
            },
            "type": "table"
           }
          ]
         },
         "layout": {
          "annotationdefaults": {
           "arrowhead": 0,
           "arrowwidth": 1
          },
          "autotypenumbers": "strict",
          "coloraxis": {
           "colorbar": {
            "outlinewidth": 1,
            "tickcolor": "rgb(36,36,36)",
            "ticks": "outside"
           }
          },
          "colorscale": {
           "diverging": [
            [
             0,
             "rgb(103,0,31)"
            ],
            [
             0.1,
             "rgb(178,24,43)"
            ],
            [
             0.2,
             "rgb(214,96,77)"
            ],
            [
             0.3,
             "rgb(244,165,130)"
            ],
            [
             0.4,
             "rgb(253,219,199)"
            ],
            [
             0.5,
             "rgb(247,247,247)"
            ],
            [
             0.6,
             "rgb(209,229,240)"
            ],
            [
             0.7,
             "rgb(146,197,222)"
            ],
            [
             0.8,
             "rgb(67,147,195)"
            ],
            [
             0.9,
             "rgb(33,102,172)"
            ],
            [
             1,
             "rgb(5,48,97)"
            ]
           ],
           "sequential": [
            [
             0,
             "#440154"
            ],
            [
             0.1111111111111111,
             "#482878"
            ],
            [
             0.2222222222222222,
             "#3e4989"
            ],
            [
             0.3333333333333333,
             "#31688e"
            ],
            [
             0.4444444444444444,
             "#26828e"
            ],
            [
             0.5555555555555556,
             "#1f9e89"
            ],
            [
             0.6666666666666666,
             "#35b779"
            ],
            [
             0.7777777777777778,
             "#6ece58"
            ],
            [
             0.8888888888888888,
             "#b5de2b"
            ],
            [
             1,
             "#fde725"
            ]
           ],
           "sequentialminus": [
            [
             0,
             "#440154"
            ],
            [
             0.1111111111111111,
             "#482878"
            ],
            [
             0.2222222222222222,
             "#3e4989"
            ],
            [
             0.3333333333333333,
             "#31688e"
            ],
            [
             0.4444444444444444,
             "#26828e"
            ],
            [
             0.5555555555555556,
             "#1f9e89"
            ],
            [
             0.6666666666666666,
             "#35b779"
            ],
            [
             0.7777777777777778,
             "#6ece58"
            ],
            [
             0.8888888888888888,
             "#b5de2b"
            ],
            [
             1,
             "#fde725"
            ]
           ]
          },
          "colorway": [
           "#1F77B4",
           "#FF7F0E",
           "#2CA02C",
           "#D62728",
           "#9467BD",
           "#8C564B",
           "#E377C2",
           "#7F7F7F",
           "#BCBD22",
           "#17BECF"
          ],
          "font": {
           "color": "rgb(36,36,36)"
          },
          "geo": {
           "bgcolor": "white",
           "lakecolor": "white",
           "landcolor": "white",
           "showlakes": true,
           "showland": true,
           "subunitcolor": "white"
          },
          "hoverlabel": {
           "align": "left"
          },
          "hovermode": "closest",
          "mapbox": {
           "style": "light"
          },
          "paper_bgcolor": "white",
          "plot_bgcolor": "white",
          "polar": {
           "angularaxis": {
            "gridcolor": "rgb(232,232,232)",
            "linecolor": "rgb(36,36,36)",
            "showgrid": false,
            "showline": true,
            "ticks": "outside"
           },
           "bgcolor": "white",
           "radialaxis": {
            "gridcolor": "rgb(232,232,232)",
            "linecolor": "rgb(36,36,36)",
            "showgrid": false,
            "showline": true,
            "ticks": "outside"
           }
          },
          "scene": {
           "xaxis": {
            "backgroundcolor": "white",
            "gridcolor": "rgb(232,232,232)",
            "gridwidth": 2,
            "linecolor": "rgb(36,36,36)",
            "showbackground": true,
            "showgrid": false,
            "showline": true,
            "ticks": "outside",
            "zeroline": false,
            "zerolinecolor": "rgb(36,36,36)"
           },
           "yaxis": {
            "backgroundcolor": "white",
            "gridcolor": "rgb(232,232,232)",
            "gridwidth": 2,
            "linecolor": "rgb(36,36,36)",
            "showbackground": true,
            "showgrid": false,
            "showline": true,
            "ticks": "outside",
            "zeroline": false,
            "zerolinecolor": "rgb(36,36,36)"
           },
           "zaxis": {
            "backgroundcolor": "white",
            "gridcolor": "rgb(232,232,232)",
            "gridwidth": 2,
            "linecolor": "rgb(36,36,36)",
            "showbackground": true,
            "showgrid": false,
            "showline": true,
            "ticks": "outside",
            "zeroline": false,
            "zerolinecolor": "rgb(36,36,36)"
           }
          },
          "shapedefaults": {
           "fillcolor": "black",
           "line": {
            "width": 0
           },
           "opacity": 0.3
          },
          "ternary": {
           "aaxis": {
            "gridcolor": "rgb(232,232,232)",
            "linecolor": "rgb(36,36,36)",
            "showgrid": false,
            "showline": true,
            "ticks": "outside"
           },
           "baxis": {
            "gridcolor": "rgb(232,232,232)",
            "linecolor": "rgb(36,36,36)",
            "showgrid": false,
            "showline": true,
            "ticks": "outside"
           },
           "bgcolor": "white",
           "caxis": {
            "gridcolor": "rgb(232,232,232)",
            "linecolor": "rgb(36,36,36)",
            "showgrid": false,
            "showline": true,
            "ticks": "outside"
           }
          },
          "title": {
           "x": 0.05
          },
          "xaxis": {
           "automargin": true,
           "gridcolor": "rgb(232,232,232)",
           "linecolor": "rgb(36,36,36)",
           "showgrid": false,
           "showline": true,
           "ticks": "outside",
           "title": {
            "standoff": 15
           },
           "zeroline": false,
           "zerolinecolor": "rgb(36,36,36)"
          },
          "yaxis": {
           "automargin": true,
           "gridcolor": "rgb(232,232,232)",
           "linecolor": "rgb(36,36,36)",
           "showgrid": false,
           "showline": true,
           "ticks": "outside",
           "title": {
            "standoff": 15
           },
           "zeroline": false,
           "zerolinecolor": "rgb(36,36,36)"
          }
         }
        },
        "title": {
         "text": "Frequency of Featuring Artists with Lil Baby"
        },
        "xaxis": {
         "anchor": "y",
         "domain": [
          0,
          1
         ],
         "title": {
          "text": "Artists"
         }
        },
        "yaxis": {
         "anchor": "x",
         "domain": [
          0,
          1
         ],
         "title": {
          "text": "frequency"
         }
        }
       }
      }
     },
     "metadata": {},
     "output_type": "display_data"
    }
   ],
   "source": [
    "fig = px.bar(artist_df.head(10), x='featuring_artist', y='frequency', template='simple_white')\n",
    "fig.update_layout(\n",
    "    title = 'Frequency of Featuring Artists with Lil Baby', \n",
    "    xaxis_title='Artists'\n",
    ")\n",
    "fig.show()"
   ]
  },
  {
   "cell_type": "markdown",
   "metadata": {},
   "source": [
    "Top Lil baby's featuring : Lil Durk, Gunna, Marlo, Young Thug and Lil Yatchy "
   ]
  },
  {
   "cell_type": "markdown",
   "metadata": {},
   "source": [
    "### Number of explicit songs"
   ]
  },
  {
   "cell_type": "code",
   "execution_count": 148,
   "metadata": {},
   "outputs": [
    {
     "data": {
      "text/plain": [
       "True     193\n",
       "False      6\n",
       "Name: explicit, dtype: int64"
      ]
     },
     "execution_count": 148,
     "metadata": {},
     "output_type": "execute_result"
    }
   ],
   "source": [
    "track['explicit'].value_counts()"
   ]
  },
  {
   "cell_type": "code",
   "execution_count": 193,
   "metadata": {},
   "outputs": [
    {
     "data": {
      "image/png": "[encoded data removed]",
      "text/plain": [
       "<Figure size 640x480 with 1 Axes>"
      ]
     },
     "metadata": {},
     "output_type": "display_data"
    }
   ],
   "source": [
    "sns.countplot(data=track, x='explicit')\n",
    "\n",
    "plt.show()"
   ]
  },
  {
   "cell_type": "markdown",
   "metadata": {},
   "source": [
    "Almost all lil baby's tracks are explicit (with lyrics)"
   ]
  },
  {
   "cell_type": "markdown",
   "metadata": {},
   "source": [
    "### Popularity distribution"
   ]
  },
  {
   "cell_type": "code",
   "execution_count": 150,
   "metadata": {},
   "outputs": [
    {
     "data": {
      "image/png": "[encoded data removed]",
      "text/plain": [
       "<Figure size 1200x600 with 2 Axes>"
      ]
     },
     "metadata": {},
     "output_type": "display_data"
    }
   ],
   "source": [
    "# Tracks and albums popularity distribution\n",
    "\n",
    "fig, axes = plt.subplots(1, 2, figsize=(12, 6))  # Adjust figsize as needed\n",
    "\n",
    "# Create a histogram plot in each subplot\n",
    "sns.histplot(data = track, ax=axes[0], x='popularity',bins=10)  # track\n",
    "sns.histplot(data = album, ax=axes[1], x='popularity',bins=4)  # album \n",
    "\n",
    "# Set titles for subplots\n",
    "axes[0].set_title('Tracks popularity distribution', fontdict={'fontsize': 16})\n",
    "axes[1].set_title('Albums popularity distribution', fontdict={'fontsize': 16})\n",
    "\n",
    "plt.show()"
   ]
  },
  {
   "cell_type": "markdown",
   "metadata": {},
   "source": [
    "Lil Baby's tracks popularity are usually between 50 and 70. Most of Lil Baby's album are around 70 and 75 in term of popularity"
   ]
  },
  {
   "cell_type": "markdown",
   "metadata": {},
   "source": [
    "### Duration_ms distribution"
   ]
  },
  {
   "cell_type": "code",
   "execution_count": 151,
   "metadata": {},
   "outputs": [
    {
     "data": {
      "image/png": "[encoded data removed]",
      "text/plain": [
       "<Figure size 640x480 with 1 Axes>"
      ]
     },
     "metadata": {},
     "output_type": "display_data"
    }
   ],
   "source": [
    "sns.histplot(data=track , x='duration_ms')\n",
    "\n",
    "plt.title('Duration distribution', fontdict={'fontsize':16})\n",
    "\n",
    "plt.show()"
   ]
  },
  {
   "cell_type": "markdown",
   "metadata": {},
   "source": [
    "Lil Baby's tracks duration are usually between 160000ms and 200000ms (2.7 minutes and 3.3 minutes)"
   ]
  },
  {
   "cell_type": "markdown",
   "metadata": {},
   "source": [
    "### Relationship between duration_ms and popularity"
   ]
  },
  {
   "cell_type": "code",
   "execution_count": 165,
   "metadata": {},
   "outputs": [
    {
     "data": {
      "application/vnd.plotly.v1+json": {
       "config": {
        "plotlyServerURL": "https://plot.ly"
       },
       "data": [
        {
         "hovertemplate": "duration_ms=%{x}<br>popularity=%{y}<extra></extra>",
         "legendgroup": "",
         "marker": {
          "color": "#1F77B4",
          "symbol": "circle"
         },
         "mode": "markers",
         "name": "",
         "orientation": "v",
         "showlegend": false,
         "type": "scatter",
         "x": [
          145542,
          162053,
          154023,
          142273,
          144651,
          169531,
          217610,
          247054,
          135959,
          203881,
          181929,
          213287,
          194732,
          167977,
          177789,
          203438,
          197529,
          205760,
          163453,
          213975,
          177314,
          198722,
          160776,
          195197,
          148645,
          200470,
          145542,
          145059,
          257428,
          252728,
          192727,
          214214,
          192804,
          166911,
          186283,
          166888,
          183011,
          172400,
          235500,
          121479,
          169186,
          195635,
          161636,
          188606,
          216547,
          159754,
          192920,
          179706,
          191583,
          173207,
          162268,
          179148,
          187464,
          157816,
          123658,
          173419,
          173437,
          218200,
          222958,
          175133,
          215423,
          218610,
          161221,
          235014,
          215121,
          156032,
          210698,
          139354,
          172985,
          175883,
          193960,
          201084,
          184440,
          225013,
          187636,
          137826,
          173061,
          182723,
          140744,
          162229,
          202732,
          164571,
          196863,
          151582,
          167171,
          167915,
          93337,
          191724,
          152000,
          209299,
          182329,
          192381,
          195063,
          108871,
          181980,
          192045,
          139053,
          206253,
          174661,
          214883,
          123428,
          157835,
          195453,
          169826,
          181999,
          192009,
          135444,
          211853,
          168438,
          186086,
          160518,
          201615,
          206165,
          275848,
          187680,
          155832,
          213989,
          198473,
          218417,
          167680,
          181011,
          186870,
          212493,
          193546,
          206523,
          176330,
          192031,
          196447,
          162791,
          265980,
          176539,
          226647,
          156532,
          194999,
          164495,
          256133,
          213578,
          163652,
          191160,
          238346,
          156532,
          185853,
          181341,
          197306,
          135444,
          218572,
          205411,
          183306,
          238146,
          169782,
          205189,
          203480,
          188386,
          182000,
          363636,
          174222,
          248064,
          211466,
          183573,
          180000,
          174813,
          143840,
          153706,
          211333,
          217933,
          194746,
          180293,
          209440,
          193813,
          160440,
          200906,
          194999,
          201706,
          203881,
          138339,
          178280,
          240440,
          191240,
          194000,
          176280,
          216293,
          193103,
          173573,
          210653,
          139893,
          216373,
          201880,
          221386,
          198186,
          213287,
          179760,
          186718,
          183000,
          192706,
          211463,
          166693,
          193813,
          181929,
          178312
         ],
         "xaxis": "x",
         "y": [
          85,
          84,
          83,
          83,
          81,
          76,
          78,
          77,
          77,
          75,
          76,
          74,
          72,
          74,
          74,
          71,
          73,
          72,
          70,
          70,
          69,
          70,
          69,
          68,
          70,
          70,
          0,
          64,
          67,
          67,
          65,
          66,
          66,
          65,
          64,
          66,
          66,
          67,
          63,
          63,
          63,
          64,
          65,
          62,
          64,
          63,
          63,
          63,
          63,
          63,
          60,
          62,
          60,
          61,
          60,
          61,
          61,
          60,
          62,
          60,
          61,
          60,
          61,
          60,
          62,
          60,
          59,
          59,
          58,
          60,
          59,
          59,
          55,
          58,
          59,
          58,
          58,
          59,
          58,
          57,
          58,
          58,
          58,
          57,
          56,
          55,
          56,
          55,
          55,
          58,
          57,
          56,
          56,
          55,
          55,
          55,
          54,
          56,
          53,
          55,
          55,
          55,
          55,
          56,
          54,
          53,
          52,
          51,
          49,
          56,
          54,
          52,
          54,
          53,
          53,
          52,
          53,
          52,
          53,
          53,
          52,
          51,
          51,
          51,
          52,
          49,
          51,
          50,
          51,
          49,
          50,
          50,
          49,
          48,
          49,
          49,
          49,
          49,
          48,
          48,
          1,
          47,
          48,
          48,
          47,
          44,
          47,
          47,
          45,
          46,
          46,
          45,
          44,
          42,
          52,
          39,
          42,
          42,
          41,
          41,
          40,
          40,
          40,
          40,
          41,
          39,
          40,
          39,
          39,
          39,
          37,
          38,
          38,
          38,
          38,
          34,
          36,
          36,
          36,
          38,
          36,
          34,
          36,
          35,
          33,
          35,
          32,
          33,
          33,
          31,
          32,
          30,
          29,
          29,
          30,
          28,
          27,
          27,
          14
         ],
         "yaxis": "y"
        },
        {
         "hovertemplate": "<b>OLS trendline</b><br>popularity = -2.99596e-05 * duration_ms + 58.8359<br>R<sup>2</sup>=0.004599<br><br>duration_ms=%{x}<br>popularity=%{y} <b>(trend)</b><extra></extra>",
         "legendgroup": "",
         "marker": {
          "color": "#1F77B4",
          "symbol": "circle"
         },
         "mode": "lines",
         "name": "",
         "showlegend": false,
         "type": "scatter",
         "x": [
          93337,
          108871,
          121479,
          123428,
          123658,
          135444,
          135444,
          135959,
          137826,
          138339,
          139053,
          139354,
          139893,
          140744,
          142273,
          143840,
          144651,
          145059,
          145542,
          145542,
          148645,
          151582,
          152000,
          153706,
          154023,
          155832,
          156032,
          156532,
          156532,
          157816,
          157835,
          159754,
          160440,
          160518,
          160776,
          161221,
          161636,
          162053,
          162229,
          162268,
          162791,
          163453,
          163652,
          164495,
          164571,
          166693,
          166888,
          166911,
          167171,
          167680,
          167915,
          167977,
          168438,
          169186,
          169531,
          169782,
          169826,
          172400,
          172985,
          173061,
          173207,
          173419,
          173437,
          173573,
          174222,
          174661,
          174813,
          175133,
          175883,
          176280,
          176330,
          176539,
          177314,
          177789,
          178280,
          178312,
          179148,
          179706,
          179760,
          180000,
          180293,
          181011,
          181341,
          181929,
          181929,
          181980,
          181999,
          182000,
          182329,
          182723,
          183000,
          183011,
          183306,
          183573,
          184440,
          185853,
          186086,
          186283,
          186718,
          186870,
          187464,
          187636,
          187680,
          188386,
          188606,
          191160,
          191240,
          191583,
          191724,
          192009,
          192031,
          192045,
          192381,
          192706,
          192727,
          192804,
          192920,
          193103,
          193546,
          193813,
          193813,
          193960,
          194000,
          194732,
          194746,
          194999,
          194999,
          195063,
          195197,
          195453,
          195635,
          196447,
          196863,
          197306,
          197529,
          198186,
          198473,
          198722,
          200470,
          200906,
          201084,
          201615,
          201706,
          201880,
          202732,
          203438,
          203480,
          203881,
          203881,
          205189,
          205411,
          205760,
          206165,
          206253,
          206523,
          209299,
          209440,
          210653,
          210698,
          211333,
          211463,
          211466,
          211853,
          212493,
          213287,
          213287,
          213578,
          213975,
          213989,
          214214,
          214883,
          215121,
          215423,
          216293,
          216373,
          216547,
          217610,
          217933,
          218200,
          218417,
          218572,
          218610,
          221386,
          222958,
          225013,
          226647,
          235014,
          235500,
          238146,
          238346,
          240440,
          247054,
          248064,
          252728,
          256133,
          257428,
          265980,
          275848,
          363636
         ],
         "xaxis": "x",
         "y": [
          56.03958681393404,
          55.57419440171931,
          55.19646377643263,
          55.138072517812404,
          55.13118181002244,
          54.77807797518513,
          54.77807797518513,
          54.762648781655415,
          54.706714210160314,
          54.691344935828766,
          54.669953782080775,
          54.66093594275564,
          54.644787718847844,
          54.61929210002496,
          54.5734838730212,
          54.52653718125215,
          54.502239946392734,
          54.49001642996531,
          54.47554594360638,
          54.47554594360638,
          54.38258130763996,
          54.29458996512196,
          54.282066852703664,
          54.23095577666154,
          54.221458583751016,
          54.167261669002954,
          54.161269749185585,
          54.146289949642174,
          54.146289949642174,
          54.10782182441469,
          54.10725259203204,
          54.04976012138443,
          54.02920783641087,
          54.026870987682095,
          54.019141411117694,
          54.00580938952406,
          53.99337615590302,
          53.98088300308382,
          53.975610113644535,
          53.974441689280155,
          53.95877281895774,
          53.938939564362265,
          53.932977604143986,
          53.907721662113794,
          53.90544473258319,
          53.84187046332095,
          53.83602834149902,
          53.83533927072003,
          53.827549774957454,
          53.81230033902226,
          53.80525983323685,
          53.80340233809347,
          53.789590962914446,
          53.7671811827975,
          53.75684512111255,
          53.74932526174175,
          53.74800703938193,
          53.670891031332445,
          53.653364665866654,
          53.65108773633606,
          53.64671363486938,
          53.64036219986298,
          53.63982292707941,
          53.6357484216036,
          53.616304641796255,
          53.60315237779714,
          53.59859851873594,
          53.589011447028156,
          53.56654174771304,
          53.55464778687557,
          53.553149806921226,
          53.54688825071208,
          53.523669561419794,
          53.50943875185355,
          53.49472858870192,
          53.49376988153114,
          53.46872365669456,
          53.45200620040411,
          53.45038838205342,
          53.44319807827258,
          53.43441991574014,
          53.4129089235958,
          53.40302225589715,
          53.385406011634096,
          53.385406011634096,
          53.38387807208067,
          53.38330883969802,
          53.383278880098935,
          53.373422171999366,
          53.36161808995916,
          53.35331928101211,
          53.352989725422155,
          53.34415164369154,
          53.33615243073536,
          53.31017745832708,
          53.2678445448174,
          53.26086395823017,
          53.25496191721007,
          53.241929491607294,
          53.2373756325461,
          53.21957963068853,
          53.21442657964559,
          53.213108357285776,
          53.19195688033047,
          53.18536576853137,
          53.108848952463624,
          53.10645218453668,
          53.0961760420499,
          53.09195173857866,
          53.08341325283891,
          53.082754141659,
          53.082334707271784,
          53.07226828197861,
          53.06253141227539,
          53.061902260694566,
          53.05959537156488,
          53.05612005807081,
          53.05063745143792,
          53.03736534904246,
          53.02936613608628,
          53.02936613608628,
          53.02496207502052,
          53.02376369105704,
          53.00183326452549,
          53.00141383013827,
          52.99383405156931,
          52.99383405156931,
          52.991916637227746,
          52.98790205095011,
          52.98023239358389,
          52.974779746550084,
          52.95045255209158,
          52.93798935887146,
          52.924717256476,
          52.91803626587964,
          52.898352809279594,
          52.88975440434168,
          52.88229446416906,
          52.82992508496529,
          52.81686269976343,
          52.81152989112598,
          52.795621344010875,
          52.79289502049397,
          52.78768205025287,
          52.76215647183089,
          52.741004994875595,
          52.73974669171395,
          52.727732892480134,
          52.727732892480134,
          52.688545736874566,
          52.68189470587729,
          52.67143880579599,
          52.65930516816582,
          52.65666872344619,
          52.64857963169274,
          52.56541178462772,
          52.56118748115647,
          52.52484648746416,
          52.52349830550525,
          52.504473960085114,
          52.50057921220383,
          52.50048933340657,
          52.48889496855997,
          52.4697208251444,
          52.44593290346946,
          52.44593290346946,
          52.4372146601352,
          52.42532069929773,
          52.42490126491051,
          52.41816035511597,
          52.39811738332689,
          52.390986998744225,
          52.38193919982,
          52.35587434861447,
          52.353477580687525,
          52.348264610446414,
          52.31641755661712,
          52.30674060611208,
          52.29874139315589,
          52.29224016015405,
          52.28759642229559,
          52.286457957530295,
          52.203290110465275,
          52.15619362070078,
          52.09462664457736,
          52.04567265966949,
          51.79500069411003,
          51.78044032895383,
          51.7011672297701,
          51.69517530995273,
          51.63243990946492,
          51.43428712110467,
          51.40402792602697,
          51.264296355886025,
          51.162283920995385,
          51.123486240177954,
          50.86727174878743,
          50.571630424998645,
          47.94153714036452
         ],
         "yaxis": "y"
        }
       ],
       "layout": {
        "legend": {
         "tracegroupgap": 0
        },
        "margin": {
         "t": 60
        },
        "template": {
         "data": {
          "bar": [
           {
            "error_x": {
             "color": "rgb(36,36,36)"
            },
            "error_y": {
             "color": "rgb(36,36,36)"
            },
            "marker": {
             "line": {
              "color": "white",
              "width": 0.5
             },
             "pattern": {
              "fillmode": "overlay",
              "size": 10,
              "solidity": 0.2
             }
            },
            "type": "bar"
           }
          ],
          "barpolar": [
           {
            "marker": {
             "line": {
              "color": "white",
              "width": 0.5
             },
             "pattern": {
              "fillmode": "overlay",
              "size": 10,
              "solidity": 0.2
             }
            },
            "type": "barpolar"
           }
          ],
          "carpet": [
           {
            "aaxis": {
             "endlinecolor": "rgb(36,36,36)",
             "gridcolor": "white",
             "linecolor": "white",
             "minorgridcolor": "white",
             "startlinecolor": "rgb(36,36,36)"
            },
            "baxis": {
             "endlinecolor": "rgb(36,36,36)",
             "gridcolor": "white",
             "linecolor": "white",
             "minorgridcolor": "white",
             "startlinecolor": "rgb(36,36,36)"
            },
            "type": "carpet"
           }
          ],
          "choropleth": [
           {
            "colorbar": {
             "outlinewidth": 1,
             "tickcolor": "rgb(36,36,36)",
             "ticks": "outside"
            },
            "type": "choropleth"
           }
          ],
          "contour": [
           {
            "colorbar": {
             "outlinewidth": 1,
             "tickcolor": "rgb(36,36,36)",
             "ticks": "outside"
            },
            "colorscale": [
             [
              0,
              "#440154"
             ],
             [
              0.1111111111111111,
              "#482878"
             ],
             [
              0.2222222222222222,
              "#3e4989"
             ],
             [
              0.3333333333333333,
              "#31688e"
             ],
             [
              0.4444444444444444,
              "#26828e"
             ],
             [
              0.5555555555555556,
              "#1f9e89"
             ],
             [
              0.6666666666666666,
              "#35b779"
             ],
             [
              0.7777777777777778,
              "#6ece58"
             ],
             [
              0.8888888888888888,
              "#b5de2b"
             ],
             [
              1,
              "#fde725"
             ]
            ],
            "type": "contour"
           }
          ],
          "contourcarpet": [
           {
            "colorbar": {
             "outlinewidth": 1,
             "tickcolor": "rgb(36,36,36)",
             "ticks": "outside"
            },
            "type": "contourcarpet"
           }
          ],
          "heatmap": [
           {
            "colorbar": {
             "outlinewidth": 1,
             "tickcolor": "rgb(36,36,36)",
             "ticks": "outside"
            },
            "colorscale": [
             [
              0,
              "#440154"
             ],
             [
              0.1111111111111111,
              "#482878"
             ],
             [
              0.2222222222222222,
              "#3e4989"
             ],
             [
              0.3333333333333333,
              "#31688e"
             ],
             [
              0.4444444444444444,
              "#26828e"
             ],
             [
              0.5555555555555556,
              "#1f9e89"
             ],
             [
              0.6666666666666666,
              "#35b779"
             ],
             [
              0.7777777777777778,
              "#6ece58"
             ],
             [
              0.8888888888888888,
              "#b5de2b"
             ],
             [
              1,
              "#fde725"
             ]
            ],
            "type": "heatmap"
           }
          ],
          "heatmapgl": [
           {
            "colorbar": {
             "outlinewidth": 1,
             "tickcolor": "rgb(36,36,36)",
             "ticks": "outside"
            },
            "colorscale": [
             [
              0,
              "#440154"
             ],
             [
              0.1111111111111111,
              "#482878"
             ],
             [
              0.2222222222222222,
              "#3e4989"
             ],
             [
              0.3333333333333333,
              "#31688e"
             ],
             [
              0.4444444444444444,
              "#26828e"
             ],
             [
              0.5555555555555556,
              "#1f9e89"
             ],
             [
              0.6666666666666666,
              "#35b779"
             ],
             [
              0.7777777777777778,
              "#6ece58"
             ],
             [
              0.8888888888888888,
              "#b5de2b"
             ],
             [
              1,
              "#fde725"
             ]
            ],
            "type": "heatmapgl"
           }
          ],
          "histogram": [
           {
            "marker": {
             "line": {
              "color": "white",
              "width": 0.6
             }
            },
            "type": "histogram"
           }
          ],
          "histogram2d": [
           {
            "colorbar": {
             "outlinewidth": 1,
             "tickcolor": "rgb(36,36,36)",
             "ticks": "outside"
            },
            "colorscale": [
             [
              0,
              "#440154"
             ],
             [
              0.1111111111111111,
              "#482878"
             ],
             [
              0.2222222222222222,
              "#3e4989"
             ],
             [
              0.3333333333333333,
              "#31688e"
             ],
             [
              0.4444444444444444,
              "#26828e"
             ],
             [
              0.5555555555555556,
              "#1f9e89"
             ],
             [
              0.6666666666666666,
              "#35b779"
             ],
             [
              0.7777777777777778,
              "#6ece58"
             ],
             [
              0.8888888888888888,
              "#b5de2b"
             ],
             [
              1,
              "#fde725"
             ]
            ],
            "type": "histogram2d"
           }
          ],
          "histogram2dcontour": [
           {
            "colorbar": {
             "outlinewidth": 1,
             "tickcolor": "rgb(36,36,36)",
             "ticks": "outside"
            },
            "colorscale": [
             [
              0,
              "#440154"
             ],
             [
              0.1111111111111111,
              "#482878"
             ],
             [
              0.2222222222222222,
              "#3e4989"
             ],
             [
              0.3333333333333333,
              "#31688e"
             ],
             [
              0.4444444444444444,
              "#26828e"
             ],
             [
              0.5555555555555556,
              "#1f9e89"
             ],
             [
              0.6666666666666666,
              "#35b779"
             ],
             [
              0.7777777777777778,
              "#6ece58"
             ],
             [
              0.8888888888888888,
              "#b5de2b"
             ],
             [
              1,
              "#fde725"
             ]
            ],
            "type": "histogram2dcontour"
           }
          ],
          "mesh3d": [
           {
            "colorbar": {
             "outlinewidth": 1,
             "tickcolor": "rgb(36,36,36)",
             "ticks": "outside"
            },
            "type": "mesh3d"
           }
          ],
          "parcoords": [
           {
            "line": {
             "colorbar": {
              "outlinewidth": 1,
              "tickcolor": "rgb(36,36,36)",
              "ticks": "outside"
             }
            },
            "type": "parcoords"
           }
          ],
          "pie": [
           {
            "automargin": true,
            "type": "pie"
           }
          ],
          "scatter": [
           {
            "fillpattern": {
             "fillmode": "overlay",
             "size": 10,
             "solidity": 0.2
            },
            "type": "scatter"
           }
          ],
          "scatter3d": [
           {
            "line": {
             "colorbar": {
              "outlinewidth": 1,
              "tickcolor": "rgb(36,36,36)",
              "ticks": "outside"
             }
            },
            "marker": {
             "colorbar": {
              "outlinewidth": 1,
              "tickcolor": "rgb(36,36,36)",
              "ticks": "outside"
             }
            },
            "type": "scatter3d"
           }
          ],
          "scattercarpet": [
           {
            "marker": {
             "colorbar": {
              "outlinewidth": 1,
              "tickcolor": "rgb(36,36,36)",
              "ticks": "outside"
             }
            },
            "type": "scattercarpet"
           }
          ],
          "scattergeo": [
           {
            "marker": {
             "colorbar": {
              "outlinewidth": 1,
              "tickcolor": "rgb(36,36,36)",
              "ticks": "outside"
             }
            },
            "type": "scattergeo"
           }
          ],
          "scattergl": [
           {
            "marker": {
             "colorbar": {
              "outlinewidth": 1,
              "tickcolor": "rgb(36,36,36)",
              "ticks": "outside"
             }
            },
            "type": "scattergl"
           }
          ],
          "scattermapbox": [
           {
            "marker": {
             "colorbar": {
              "outlinewidth": 1,
              "tickcolor": "rgb(36,36,36)",
              "ticks": "outside"
             }
            },
            "type": "scattermapbox"
           }
          ],
          "scatterpolar": [
           {
            "marker": {
             "colorbar": {
              "outlinewidth": 1,
              "tickcolor": "rgb(36,36,36)",
              "ticks": "outside"
             }
            },
            "type": "scatterpolar"
           }
          ],
          "scatterpolargl": [
           {
            "marker": {
             "colorbar": {
              "outlinewidth": 1,
              "tickcolor": "rgb(36,36,36)",
              "ticks": "outside"
             }
            },
            "type": "scatterpolargl"
           }
          ],
          "scatterternary": [
           {
            "marker": {
             "colorbar": {
              "outlinewidth": 1,
              "tickcolor": "rgb(36,36,36)",
              "ticks": "outside"
             }
            },
            "type": "scatterternary"
           }
          ],
          "surface": [
           {
            "colorbar": {
             "outlinewidth": 1,
             "tickcolor": "rgb(36,36,36)",
             "ticks": "outside"
            },
            "colorscale": [
             [
              0,
              "#440154"
             ],
             [
              0.1111111111111111,
              "#482878"
             ],
             [
              0.2222222222222222,
              "#3e4989"
             ],
             [
              0.3333333333333333,
              "#31688e"
             ],
             [
              0.4444444444444444,
              "#26828e"
             ],
             [
              0.5555555555555556,
              "#1f9e89"
             ],
             [
              0.6666666666666666,
              "#35b779"
             ],
             [
              0.7777777777777778,
              "#6ece58"
             ],
             [
              0.8888888888888888,
              "#b5de2b"
             ],
             [
              1,
              "#fde725"
             ]
            ],
            "type": "surface"
           }
          ],
          "table": [
           {
            "cells": {
             "fill": {
              "color": "rgb(237,237,237)"
             },
             "line": {
              "color": "white"
             }
            },
            "header": {
             "fill": {
              "color": "rgb(217,217,217)"
             },
             "line": {
              "color": "white"
             }
            },
            "type": "table"
           }
          ]
         },
         "layout": {
          "annotationdefaults": {
           "arrowhead": 0,
           "arrowwidth": 1
          },
          "autotypenumbers": "strict",
          "coloraxis": {
           "colorbar": {
            "outlinewidth": 1,
            "tickcolor": "rgb(36,36,36)",
            "ticks": "outside"
           }
          },
          "colorscale": {
           "diverging": [
            [
             0,
             "rgb(103,0,31)"
            ],
            [
             0.1,
             "rgb(178,24,43)"
            ],
            [
             0.2,
             "rgb(214,96,77)"
            ],
            [
             0.3,
             "rgb(244,165,130)"
            ],
            [
             0.4,
             "rgb(253,219,199)"
            ],
            [
             0.5,
             "rgb(247,247,247)"
            ],
            [
             0.6,
             "rgb(209,229,240)"
            ],
            [
             0.7,
             "rgb(146,197,222)"
            ],
            [
             0.8,
             "rgb(67,147,195)"
            ],
            [
             0.9,
             "rgb(33,102,172)"
            ],
            [
             1,
             "rgb(5,48,97)"
            ]
           ],
           "sequential": [
            [
             0,
             "#440154"
            ],
            [
             0.1111111111111111,
             "#482878"
            ],
            [
             0.2222222222222222,
             "#3e4989"
            ],
            [
             0.3333333333333333,
             "#31688e"
            ],
            [
             0.4444444444444444,
             "#26828e"
            ],
            [
             0.5555555555555556,
             "#1f9e89"
            ],
            [
             0.6666666666666666,
             "#35b779"
            ],
            [
             0.7777777777777778,
             "#6ece58"
            ],
            [
             0.8888888888888888,
             "#b5de2b"
            ],
            [
             1,
             "#fde725"
            ]
           ],
           "sequentialminus": [
            [
             0,
             "#440154"
            ],
            [
             0.1111111111111111,
             "#482878"
            ],
            [
             0.2222222222222222,
             "#3e4989"
            ],
            [
             0.3333333333333333,
             "#31688e"
            ],
            [
             0.4444444444444444,
             "#26828e"
            ],
            [
             0.5555555555555556,
             "#1f9e89"
            ],
            [
             0.6666666666666666,
             "#35b779"
            ],
            [
             0.7777777777777778,
             "#6ece58"
            ],
            [
             0.8888888888888888,
             "#b5de2b"
            ],
            [
             1,
             "#fde725"
            ]
           ]
          },
          "colorway": [
           "#1F77B4",
           "#FF7F0E",
           "#2CA02C",
           "#D62728",
           "#9467BD",
           "#8C564B",
           "#E377C2",
           "#7F7F7F",
           "#BCBD22",
           "#17BECF"
          ],
          "font": {
           "color": "rgb(36,36,36)"
          },
          "geo": {
           "bgcolor": "white",
           "lakecolor": "white",
           "landcolor": "white",
           "showlakes": true,
           "showland": true,
           "subunitcolor": "white"
          },
          "hoverlabel": {
           "align": "left"
          },
          "hovermode": "closest",
          "mapbox": {
           "style": "light"
          },
          "paper_bgcolor": "white",
          "plot_bgcolor": "white",
          "polar": {
           "angularaxis": {
            "gridcolor": "rgb(232,232,232)",
            "linecolor": "rgb(36,36,36)",
            "showgrid": false,
            "showline": true,
            "ticks": "outside"
           },
           "bgcolor": "white",
           "radialaxis": {
            "gridcolor": "rgb(232,232,232)",
            "linecolor": "rgb(36,36,36)",
            "showgrid": false,
            "showline": true,
            "ticks": "outside"
           }
          },
          "scene": {
           "xaxis": {
            "backgroundcolor": "white",
            "gridcolor": "rgb(232,232,232)",
            "gridwidth": 2,
            "linecolor": "rgb(36,36,36)",
            "showbackground": true,
            "showgrid": false,
            "showline": true,
            "ticks": "outside",
            "zeroline": false,
            "zerolinecolor": "rgb(36,36,36)"
           },
           "yaxis": {
            "backgroundcolor": "white",
            "gridcolor": "rgb(232,232,232)",
            "gridwidth": 2,
            "linecolor": "rgb(36,36,36)",
            "showbackground": true,
            "showgrid": false,
            "showline": true,
            "ticks": "outside",
            "zeroline": false,
            "zerolinecolor": "rgb(36,36,36)"
           },
           "zaxis": {
            "backgroundcolor": "white",
            "gridcolor": "rgb(232,232,232)",
            "gridwidth": 2,
            "linecolor": "rgb(36,36,36)",
            "showbackground": true,
            "showgrid": false,
            "showline": true,
            "ticks": "outside",
            "zeroline": false,
            "zerolinecolor": "rgb(36,36,36)"
           }
          },
          "shapedefaults": {
           "fillcolor": "black",
           "line": {
            "width": 0
           },
           "opacity": 0.3
          },
          "ternary": {
           "aaxis": {
            "gridcolor": "rgb(232,232,232)",
            "linecolor": "rgb(36,36,36)",
            "showgrid": false,
            "showline": true,
            "ticks": "outside"
           },
           "baxis": {
            "gridcolor": "rgb(232,232,232)",
            "linecolor": "rgb(36,36,36)",
            "showgrid": false,
            "showline": true,
            "ticks": "outside"
           },
           "bgcolor": "white",
           "caxis": {
            "gridcolor": "rgb(232,232,232)",
            "linecolor": "rgb(36,36,36)",
            "showgrid": false,
            "showline": true,
            "ticks": "outside"
           }
          },
          "title": {
           "x": 0.05
          },
          "xaxis": {
           "automargin": true,
           "gridcolor": "rgb(232,232,232)",
           "linecolor": "rgb(36,36,36)",
           "showgrid": false,
           "showline": true,
           "ticks": "outside",
           "title": {
            "standoff": 15
           },
           "zeroline": false,
           "zerolinecolor": "rgb(36,36,36)"
          },
          "yaxis": {
           "automargin": true,
           "gridcolor": "rgb(232,232,232)",
           "linecolor": "rgb(36,36,36)",
           "showgrid": false,
           "showline": true,
           "ticks": "outside",
           "title": {
            "standoff": 15
           },
           "zeroline": false,
           "zerolinecolor": "rgb(36,36,36)"
          }
         }
        },
        "title": {
         "text": "Relationship between the duration and the popularity of a track"
        },
        "xaxis": {
         "anchor": "y",
         "domain": [
          0,
          1
         ],
         "title": {
          "text": "duration_ms"
         }
        },
        "yaxis": {
         "anchor": "x",
         "domain": [
          0,
          1
         ],
         "title": {
          "text": "popularity"
         }
        }
       }
      }
     },
     "metadata": {},
     "output_type": "display_data"
    }
   ],
   "source": [
    "# scatterplot\n",
    "fig = px.scatter(track, x=\"duration_ms\", y=\"popularity\", trendline=\"ols\", template='simple_white')\n",
    "fig.update_layout(\n",
    "    title = 'Relationship between the duration and the popularity of a track'\n",
    ")\n",
    "fig.show()"
   ]
  },
  {
   "cell_type": "markdown",
   "metadata": {},
   "source": [
    "There is no relationship between the duration of a track and his popularity"
   ]
  },
  {
   "cell_type": "markdown",
   "metadata": {},
   "source": [
    "### Distribution of the total number of available markets"
   ]
  },
  {
   "cell_type": "code",
   "execution_count": 153,
   "metadata": {},
   "outputs": [],
   "source": [
    "# create a column for the total count of available markets\n",
    "\n",
    "#track dataframe\n",
    "for i in range(track.shape[0]): \n",
    "    track.loc[i, 'total_markets'] = len(track.loc[i,'available_markets'].split(', '))\n",
    "\n",
    "#album dataframe\n",
    "for i in range(album.shape[0]):\n",
    "    album.loc[i,'total_markets'] = len(album.loc[i,'available_markets'].split(', '))"
   ]
  },
  {
   "cell_type": "code",
   "execution_count": 167,
   "metadata": {},
   "outputs": [
    {
     "data": {
      "application/vnd.plotly.v1+json": {
       "config": {
        "plotlyServerURL": "https://plot.ly"
       },
       "data": [
        {
         "alignmentgroup": "True",
         "bingroup": "x",
         "hovertemplate": "total_markets=%{x}<br>count=%{y}<extra></extra>",
         "legendgroup": "",
         "marker": {
          "color": "#1F77B4",
          "pattern": {
           "shape": ""
          }
         },
         "name": "",
         "offsetgroup": "",
         "orientation": "v",
         "showlegend": false,
         "type": "histogram",
         "x": [
          182,
          182,
          182,
          182,
          184,
          184,
          183,
          182,
          184,
          182,
          184,
          182,
          182,
          183,
          183,
          183,
          183,
          183,
          183,
          183,
          183,
          183,
          183,
          183,
          183,
          183,
          88,
          182,
          184,
          184,
          183,
          183,
          184,
          184,
          184,
          183,
          179,
          184,
          183,
          183,
          182,
          182,
          183,
          183,
          184,
          182,
          184,
          183,
          184,
          184,
          182,
          183,
          182,
          182,
          183,
          184,
          182,
          182,
          182,
          183,
          180,
          184,
          183,
          184,
          184,
          184,
          184,
          183,
          182,
          183,
          182,
          182,
          179,
          184,
          183,
          184,
          183,
          182,
          183,
          182,
          183,
          183,
          182,
          183,
          183,
          184,
          182,
          182,
          184,
          184,
          183,
          182,
          184,
          182,
          184,
          182,
          182,
          184,
          182,
          183,
          182,
          183,
          184,
          182,
          183,
          182,
          184,
          182,
          182,
          184,
          182,
          183,
          184,
          182,
          184,
          183,
          182,
          182,
          184,
          179,
          183,
          182,
          180,
          184,
          182,
          182,
          182,
          182,
          183,
          184,
          183,
          182,
          184,
          184,
          182,
          179,
          182,
          183,
          182,
          180,
          95,
          183,
          183,
          182,
          95,
          184,
          183,
          179,
          180,
          183,
          182,
          182,
          179,
          180,
          184,
          184,
          180,
          182,
          182,
          182,
          179,
          179,
          182,
          180,
          180,
          182,
          182,
          179,
          182,
          182,
          179,
          184,
          180,
          85,
          179,
          184,
          179,
          180,
          179,
          184,
          179,
          175,
          180,
          179,
          180,
          179,
          179,
          179,
          179,
          95,
          179,
          184,
          179,
          179,
          184,
          179,
          179,
          94,
          184
         ],
         "xaxis": "x",
         "yaxis": "y"
        }
       ],
       "layout": {
        "barmode": "relative",
        "legend": {
         "tracegroupgap": 0
        },
        "margin": {
         "t": 60
        },
        "template": {
         "data": {
          "bar": [
           {
            "error_x": {
             "color": "rgb(36,36,36)"
            },
            "error_y": {
             "color": "rgb(36,36,36)"
            },
            "marker": {
             "line": {
              "color": "white",
              "width": 0.5
             },
             "pattern": {
              "fillmode": "overlay",
              "size": 10,
              "solidity": 0.2
             }
            },
            "type": "bar"
           }
          ],
          "barpolar": [
           {
            "marker": {
             "line": {
              "color": "white",
              "width": 0.5
             },
             "pattern": {
              "fillmode": "overlay",
              "size": 10,
              "solidity": 0.2
             }
            },
            "type": "barpolar"
           }
          ],
          "carpet": [
           {
            "aaxis": {
             "endlinecolor": "rgb(36,36,36)",
             "gridcolor": "white",
             "linecolor": "white",
             "minorgridcolor": "white",
             "startlinecolor": "rgb(36,36,36)"
            },
            "baxis": {
             "endlinecolor": "rgb(36,36,36)",
             "gridcolor": "white",
             "linecolor": "white",
             "minorgridcolor": "white",
             "startlinecolor": "rgb(36,36,36)"
            },
            "type": "carpet"
           }
          ],
          "choropleth": [
           {
            "colorbar": {
             "outlinewidth": 1,
             "tickcolor": "rgb(36,36,36)",
             "ticks": "outside"
            },
            "type": "choropleth"
           }
          ],
          "contour": [
           {
            "colorbar": {
             "outlinewidth": 1,
             "tickcolor": "rgb(36,36,36)",
             "ticks": "outside"
            },
            "colorscale": [
             [
              0,
              "#440154"
             ],
             [
              0.1111111111111111,
              "#482878"
             ],
             [
              0.2222222222222222,
              "#3e4989"
             ],
             [
              0.3333333333333333,
              "#31688e"
             ],
             [
              0.4444444444444444,
              "#26828e"
             ],
             [
              0.5555555555555556,
              "#1f9e89"
             ],
             [
              0.6666666666666666,
              "#35b779"
             ],
             [
              0.7777777777777778,
              "#6ece58"
             ],
             [
              0.8888888888888888,
              "#b5de2b"
             ],
             [
              1,
              "#fde725"
             ]
            ],
            "type": "contour"
           }
          ],
          "contourcarpet": [
           {
            "colorbar": {
             "outlinewidth": 1,
             "tickcolor": "rgb(36,36,36)",
             "ticks": "outside"
            },
            "type": "contourcarpet"
           }
          ],
          "heatmap": [
           {
            "colorbar": {
             "outlinewidth": 1,
             "tickcolor": "rgb(36,36,36)",
             "ticks": "outside"
            },
            "colorscale": [
             [
              0,
              "#440154"
             ],
             [
              0.1111111111111111,
              "#482878"
             ],
             [
              0.2222222222222222,
              "#3e4989"
             ],
             [
              0.3333333333333333,
              "#31688e"
             ],
             [
              0.4444444444444444,
              "#26828e"
             ],
             [
              0.5555555555555556,
              "#1f9e89"
             ],
             [
              0.6666666666666666,
              "#35b779"
             ],
             [
              0.7777777777777778,
              "#6ece58"
             ],
             [
              0.8888888888888888,
              "#b5de2b"
             ],
             [
              1,
              "#fde725"
             ]
            ],
            "type": "heatmap"
           }
          ],
          "heatmapgl": [
           {
            "colorbar": {
             "outlinewidth": 1,
             "tickcolor": "rgb(36,36,36)",
             "ticks": "outside"
            },
            "colorscale": [
             [
              0,
              "#440154"
             ],
             [
              0.1111111111111111,
              "#482878"
             ],
             [
              0.2222222222222222,
              "#3e4989"
             ],
             [
              0.3333333333333333,
              "#31688e"
             ],
             [
              0.4444444444444444,
              "#26828e"
             ],
             [
              0.5555555555555556,
              "#1f9e89"
             ],
             [
              0.6666666666666666,
              "#35b779"
             ],
             [
              0.7777777777777778,
              "#6ece58"
             ],
             [
              0.8888888888888888,
              "#b5de2b"
             ],
             [
              1,
              "#fde725"
             ]
            ],
            "type": "heatmapgl"
           }
          ],
          "histogram": [
           {
            "marker": {
             "line": {
              "color": "white",
              "width": 0.6
             }
            },
            "type": "histogram"
           }
          ],
          "histogram2d": [
           {
            "colorbar": {
             "outlinewidth": 1,
             "tickcolor": "rgb(36,36,36)",
             "ticks": "outside"
            },
            "colorscale": [
             [
              0,
              "#440154"
             ],
             [
              0.1111111111111111,
              "#482878"
             ],
             [
              0.2222222222222222,
              "#3e4989"
             ],
             [
              0.3333333333333333,
              "#31688e"
             ],
             [
              0.4444444444444444,
              "#26828e"
             ],
             [
              0.5555555555555556,
              "#1f9e89"
             ],
             [
              0.6666666666666666,
              "#35b779"
             ],
             [
              0.7777777777777778,
              "#6ece58"
             ],
             [
              0.8888888888888888,
              "#b5de2b"
             ],
             [
              1,
              "#fde725"
             ]
            ],
            "type": "histogram2d"
           }
          ],
          "histogram2dcontour": [
           {
            "colorbar": {
             "outlinewidth": 1,
             "tickcolor": "rgb(36,36,36)",
             "ticks": "outside"
            },
            "colorscale": [
             [
              0,
              "#440154"
             ],
             [
              0.1111111111111111,
              "#482878"
             ],
             [
              0.2222222222222222,
              "#3e4989"
             ],
             [
              0.3333333333333333,
              "#31688e"
             ],
             [
              0.4444444444444444,
              "#26828e"
             ],
             [
              0.5555555555555556,
              "#1f9e89"
             ],
             [
              0.6666666666666666,
              "#35b779"
             ],
             [
              0.7777777777777778,
              "#6ece58"
             ],
             [
              0.8888888888888888,
              "#b5de2b"
             ],
             [
              1,
              "#fde725"
             ]
            ],
            "type": "histogram2dcontour"
           }
          ],
          "mesh3d": [
           {
            "colorbar": {
             "outlinewidth": 1,
             "tickcolor": "rgb(36,36,36)",
             "ticks": "outside"
            },
            "type": "mesh3d"
           }
          ],
          "parcoords": [
           {
            "line": {
             "colorbar": {
              "outlinewidth": 1,
              "tickcolor": "rgb(36,36,36)",
              "ticks": "outside"
             }
            },
            "type": "parcoords"
           }
          ],
          "pie": [
           {
            "automargin": true,
            "type": "pie"
           }
          ],
          "scatter": [
           {
            "fillpattern": {
             "fillmode": "overlay",
             "size": 10,
             "solidity": 0.2
            },
            "type": "scatter"
           }
          ],
          "scatter3d": [
           {
            "line": {
             "colorbar": {
              "outlinewidth": 1,
              "tickcolor": "rgb(36,36,36)",
              "ticks": "outside"
             }
            },
            "marker": {
             "colorbar": {
              "outlinewidth": 1,
              "tickcolor": "rgb(36,36,36)",
              "ticks": "outside"
             }
            },
            "type": "scatter3d"
           }
          ],
          "scattercarpet": [
           {
            "marker": {
             "colorbar": {
              "outlinewidth": 1,
              "tickcolor": "rgb(36,36,36)",
              "ticks": "outside"
             }
            },
            "type": "scattercarpet"
           }
          ],
          "scattergeo": [
           {
            "marker": {
             "colorbar": {
              "outlinewidth": 1,
              "tickcolor": "rgb(36,36,36)",
              "ticks": "outside"
             }
            },
            "type": "scattergeo"
           }
          ],
          "scattergl": [
           {
            "marker": {
             "colorbar": {
              "outlinewidth": 1,
              "tickcolor": "rgb(36,36,36)",
              "ticks": "outside"
             }
            },
            "type": "scattergl"
           }
          ],
          "scattermapbox": [
           {
            "marker": {
             "colorbar": {
              "outlinewidth": 1,
              "tickcolor": "rgb(36,36,36)",
              "ticks": "outside"
             }
            },
            "type": "scattermapbox"
           }
          ],
          "scatterpolar": [
           {
            "marker": {
             "colorbar": {
              "outlinewidth": 1,
              "tickcolor": "rgb(36,36,36)",
              "ticks": "outside"
             }
            },
            "type": "scatterpolar"
           }
          ],
          "scatterpolargl": [
           {
            "marker": {
             "colorbar": {
              "outlinewidth": 1,
              "tickcolor": "rgb(36,36,36)",
              "ticks": "outside"
             }
            },
            "type": "scatterpolargl"
           }
          ],
          "scatterternary": [
           {
            "marker": {
             "colorbar": {
              "outlinewidth": 1,
              "tickcolor": "rgb(36,36,36)",
              "ticks": "outside"
             }
            },
            "type": "scatterternary"
           }
          ],
          "surface": [
           {
            "colorbar": {
             "outlinewidth": 1,
             "tickcolor": "rgb(36,36,36)",
             "ticks": "outside"
            },
            "colorscale": [
             [
              0,
              "#440154"
             ],
             [
              0.1111111111111111,
              "#482878"
             ],
             [
              0.2222222222222222,
              "#3e4989"
             ],
             [
              0.3333333333333333,
              "#31688e"
             ],
             [
              0.4444444444444444,
              "#26828e"
             ],
             [
              0.5555555555555556,
              "#1f9e89"
             ],
             [
              0.6666666666666666,
              "#35b779"
             ],
             [
              0.7777777777777778,
              "#6ece58"
             ],
             [
              0.8888888888888888,
              "#b5de2b"
             ],
             [
              1,
              "#fde725"
             ]
            ],
            "type": "surface"
           }
          ],
          "table": [
           {
            "cells": {
             "fill": {
              "color": "rgb(237,237,237)"
             },
             "line": {
              "color": "white"
             }
            },
            "header": {
             "fill": {
              "color": "rgb(217,217,217)"
             },
             "line": {
              "color": "white"
             }
            },
            "type": "table"
           }
          ]
         },
         "layout": {
          "annotationdefaults": {
           "arrowhead": 0,
           "arrowwidth": 1
          },
          "autotypenumbers": "strict",
          "coloraxis": {
           "colorbar": {
            "outlinewidth": 1,
            "tickcolor": "rgb(36,36,36)",
            "ticks": "outside"
           }
          },
          "colorscale": {
           "diverging": [
            [
             0,
             "rgb(103,0,31)"
            ],
            [
             0.1,
             "rgb(178,24,43)"
            ],
            [
             0.2,
             "rgb(214,96,77)"
            ],
            [
             0.3,
             "rgb(244,165,130)"
            ],
            [
             0.4,
             "rgb(253,219,199)"
            ],
            [
             0.5,
             "rgb(247,247,247)"
            ],
            [
             0.6,
             "rgb(209,229,240)"
            ],
            [
             0.7,
             "rgb(146,197,222)"
            ],
            [
             0.8,
             "rgb(67,147,195)"
            ],
            [
             0.9,
             "rgb(33,102,172)"
            ],
            [
             1,
             "rgb(5,48,97)"
            ]
           ],
           "sequential": [
            [
             0,
             "#440154"
            ],
            [
             0.1111111111111111,
             "#482878"
            ],
            [
             0.2222222222222222,
             "#3e4989"
            ],
            [
             0.3333333333333333,
             "#31688e"
            ],
            [
             0.4444444444444444,
             "#26828e"
            ],
            [
             0.5555555555555556,
             "#1f9e89"
            ],
            [
             0.6666666666666666,
             "#35b779"
            ],
            [
             0.7777777777777778,
             "#6ece58"
            ],
            [
             0.8888888888888888,
             "#b5de2b"
            ],
            [
             1,
             "#fde725"
            ]
           ],
           "sequentialminus": [
            [
             0,
             "#440154"
            ],
            [
             0.1111111111111111,
             "#482878"
            ],
            [
             0.2222222222222222,
             "#3e4989"
            ],
            [
             0.3333333333333333,
             "#31688e"
            ],
            [
             0.4444444444444444,
             "#26828e"
            ],
            [
             0.5555555555555556,
             "#1f9e89"
            ],
            [
             0.6666666666666666,
             "#35b779"
            ],
            [
             0.7777777777777778,
             "#6ece58"
            ],
            [
             0.8888888888888888,
             "#b5de2b"
            ],
            [
             1,
             "#fde725"
            ]
           ]
          },
          "colorway": [
           "#1F77B4",
           "#FF7F0E",
           "#2CA02C",
           "#D62728",
           "#9467BD",
           "#8C564B",
           "#E377C2",
           "#7F7F7F",
           "#BCBD22",
           "#17BECF"
          ],
          "font": {
           "color": "rgb(36,36,36)"
          },
          "geo": {
           "bgcolor": "white",
           "lakecolor": "white",
           "landcolor": "white",
           "showlakes": true,
           "showland": true,
           "subunitcolor": "white"
          },
          "hoverlabel": {
           "align": "left"
          },
          "hovermode": "closest",
          "mapbox": {
           "style": "light"
          },
          "paper_bgcolor": "white",
          "plot_bgcolor": "white",
          "polar": {
           "angularaxis": {
            "gridcolor": "rgb(232,232,232)",
            "linecolor": "rgb(36,36,36)",
            "showgrid": false,
            "showline": true,
            "ticks": "outside"
           },
           "bgcolor": "white",
           "radialaxis": {
            "gridcolor": "rgb(232,232,232)",
            "linecolor": "rgb(36,36,36)",
            "showgrid": false,
            "showline": true,
            "ticks": "outside"
           }
          },
          "scene": {
           "xaxis": {
            "backgroundcolor": "white",
            "gridcolor": "rgb(232,232,232)",
            "gridwidth": 2,
            "linecolor": "rgb(36,36,36)",
            "showbackground": true,
            "showgrid": false,
            "showline": true,
            "ticks": "outside",
            "zeroline": false,
            "zerolinecolor": "rgb(36,36,36)"
           },
           "yaxis": {
            "backgroundcolor": "white",
            "gridcolor": "rgb(232,232,232)",
            "gridwidth": 2,
            "linecolor": "rgb(36,36,36)",
            "showbackground": true,
            "showgrid": false,
            "showline": true,
            "ticks": "outside",
            "zeroline": false,
            "zerolinecolor": "rgb(36,36,36)"
           },
           "zaxis": {
            "backgroundcolor": "white",
            "gridcolor": "rgb(232,232,232)",
            "gridwidth": 2,
            "linecolor": "rgb(36,36,36)",
            "showbackground": true,
            "showgrid": false,
            "showline": true,
            "ticks": "outside",
            "zeroline": false,
            "zerolinecolor": "rgb(36,36,36)"
           }
          },
          "shapedefaults": {
           "fillcolor": "black",
           "line": {
            "width": 0
           },
           "opacity": 0.3
          },
          "ternary": {
           "aaxis": {
            "gridcolor": "rgb(232,232,232)",
            "linecolor": "rgb(36,36,36)",
            "showgrid": false,
            "showline": true,
            "ticks": "outside"
           },
           "baxis": {
            "gridcolor": "rgb(232,232,232)",
            "linecolor": "rgb(36,36,36)",
            "showgrid": false,
            "showline": true,
            "ticks": "outside"
           },
           "bgcolor": "white",
           "caxis": {
            "gridcolor": "rgb(232,232,232)",
            "linecolor": "rgb(36,36,36)",
            "showgrid": false,
            "showline": true,
            "ticks": "outside"
           }
          },
          "title": {
           "x": 0.05
          },
          "xaxis": {
           "automargin": true,
           "gridcolor": "rgb(232,232,232)",
           "linecolor": "rgb(36,36,36)",
           "showgrid": false,
           "showline": true,
           "ticks": "outside",
           "title": {
            "standoff": 15
           },
           "zeroline": false,
           "zerolinecolor": "rgb(36,36,36)"
          },
          "yaxis": {
           "automargin": true,
           "gridcolor": "rgb(232,232,232)",
           "linecolor": "rgb(36,36,36)",
           "showgrid": false,
           "showline": true,
           "ticks": "outside",
           "title": {
            "standoff": 15
           },
           "zeroline": false,
           "zerolinecolor": "rgb(36,36,36)"
          }
         }
        },
        "title": {
         "text": "Distribution of the available markets(track)"
        },
        "xaxis": {
         "anchor": "y",
         "domain": [
          0,
          1
         ],
         "title": {
          "text": "total_markets"
         }
        },
        "yaxis": {
         "anchor": "x",
         "domain": [
          0,
          1
         ],
         "title": {
          "text": "count"
         }
        }
       }
      }
     },
     "metadata": {},
     "output_type": "display_data"
    }
   ],
   "source": [
    "fig = px.histogram(track, x=\"total_markets\", template = \"simple_white\")\n",
    "fig.update_layout(\n",
    "    title = 'Distribution of the available markets(track)'\n",
    ")\n",
    "fig.show()"
   ]
  },
  {
   "cell_type": "markdown",
   "metadata": {},
   "source": [
    "Lil baby's tracks are usually available in around 180 markets (countries)"
   ]
  },
  {
   "cell_type": "code",
   "execution_count": 169,
   "metadata": {},
   "outputs": [
    {
     "data": {
      "application/vnd.plotly.v1+json": {
       "config": {
        "plotlyServerURL": "https://plot.ly"
       },
       "data": [
        {
         "alignmentgroup": "True",
         "bingroup": "x",
         "hovertemplate": "total_markets=%{x}<br>count=%{y}<extra></extra>",
         "legendgroup": "",
         "marker": {
          "color": "#1F77B4",
          "pattern": {
           "shape": ""
          }
         },
         "name": "",
         "offsetgroup": "",
         "orientation": "v",
         "showlegend": false,
         "type": "histogram",
         "x": [
          183,
          182,
          182,
          182,
          184,
          182,
          183,
          184,
          180,
          179,
          179
         ],
         "xaxis": "x",
         "yaxis": "y"
        }
       ],
       "layout": {
        "barmode": "relative",
        "legend": {
         "tracegroupgap": 0
        },
        "margin": {
         "t": 60
        },
        "template": {
         "data": {
          "bar": [
           {
            "error_x": {
             "color": "rgb(36,36,36)"
            },
            "error_y": {
             "color": "rgb(36,36,36)"
            },
            "marker": {
             "line": {
              "color": "white",
              "width": 0.5
             },
             "pattern": {
              "fillmode": "overlay",
              "size": 10,
              "solidity": 0.2
             }
            },
            "type": "bar"
           }
          ],
          "barpolar": [
           {
            "marker": {
             "line": {
              "color": "white",
              "width": 0.5
             },
             "pattern": {
              "fillmode": "overlay",
              "size": 10,
              "solidity": 0.2
             }
            },
            "type": "barpolar"
           }
          ],
          "carpet": [
           {
            "aaxis": {
             "endlinecolor": "rgb(36,36,36)",
             "gridcolor": "white",
             "linecolor": "white",
             "minorgridcolor": "white",
             "startlinecolor": "rgb(36,36,36)"
            },
            "baxis": {
             "endlinecolor": "rgb(36,36,36)",
             "gridcolor": "white",
             "linecolor": "white",
             "minorgridcolor": "white",
             "startlinecolor": "rgb(36,36,36)"
            },
            "type": "carpet"
           }
          ],
          "choropleth": [
           {
            "colorbar": {
             "outlinewidth": 1,
             "tickcolor": "rgb(36,36,36)",
             "ticks": "outside"
            },
            "type": "choropleth"
           }
          ],
          "contour": [
           {
            "colorbar": {
             "outlinewidth": 1,
             "tickcolor": "rgb(36,36,36)",
             "ticks": "outside"
            },
            "colorscale": [
             [
              0,
              "#440154"
             ],
             [
              0.1111111111111111,
              "#482878"
             ],
             [
              0.2222222222222222,
              "#3e4989"
             ],
             [
              0.3333333333333333,
              "#31688e"
             ],
             [
              0.4444444444444444,
              "#26828e"
             ],
             [
              0.5555555555555556,
              "#1f9e89"
             ],
             [
              0.6666666666666666,
              "#35b779"
             ],
             [
              0.7777777777777778,
              "#6ece58"
             ],
             [
              0.8888888888888888,
              "#b5de2b"
             ],
             [
              1,
              "#fde725"
             ]
            ],
            "type": "contour"
           }
          ],
          "contourcarpet": [
           {
            "colorbar": {
             "outlinewidth": 1,
             "tickcolor": "rgb(36,36,36)",
             "ticks": "outside"
            },
            "type": "contourcarpet"
           }
          ],
          "heatmap": [
           {
            "colorbar": {
             "outlinewidth": 1,
             "tickcolor": "rgb(36,36,36)",
             "ticks": "outside"
            },
            "colorscale": [
             [
              0,
              "#440154"
             ],
             [
              0.1111111111111111,
              "#482878"
             ],
             [
              0.2222222222222222,
              "#3e4989"
             ],
             [
              0.3333333333333333,
              "#31688e"
             ],
             [
              0.4444444444444444,
              "#26828e"
             ],
             [
              0.5555555555555556,
              "#1f9e89"
             ],
             [
              0.6666666666666666,
              "#35b779"
             ],
             [
              0.7777777777777778,
              "#6ece58"
             ],
             [
              0.8888888888888888,
              "#b5de2b"
             ],
             [
              1,
              "#fde725"
             ]
            ],
            "type": "heatmap"
           }
          ],
          "heatmapgl": [
           {
            "colorbar": {
             "outlinewidth": 1,
             "tickcolor": "rgb(36,36,36)",
             "ticks": "outside"
            },
            "colorscale": [
             [
              0,
              "#440154"
             ],
             [
              0.1111111111111111,
              "#482878"
             ],
             [
              0.2222222222222222,
              "#3e4989"
             ],
             [
              0.3333333333333333,
              "#31688e"
             ],
             [
              0.4444444444444444,
              "#26828e"
             ],
             [
              0.5555555555555556,
              "#1f9e89"
             ],
             [
              0.6666666666666666,
              "#35b779"
             ],
             [
              0.7777777777777778,
              "#6ece58"
             ],
             [
              0.8888888888888888,
              "#b5de2b"
             ],
             [
              1,
              "#fde725"
             ]
            ],
            "type": "heatmapgl"
           }
          ],
          "histogram": [
           {
            "marker": {
             "line": {
              "color": "white",
              "width": 0.6
             }
            },
            "type": "histogram"
           }
          ],
          "histogram2d": [
           {
            "colorbar": {
             "outlinewidth": 1,
             "tickcolor": "rgb(36,36,36)",
             "ticks": "outside"
            },
            "colorscale": [
             [
              0,
              "#440154"
             ],
             [
              0.1111111111111111,
              "#482878"
             ],
             [
              0.2222222222222222,
              "#3e4989"
             ],
             [
              0.3333333333333333,
              "#31688e"
             ],
             [
              0.4444444444444444,
              "#26828e"
             ],
             [
              0.5555555555555556,
              "#1f9e89"
             ],
             [
              0.6666666666666666,
              "#35b779"
             ],
             [
              0.7777777777777778,
              "#6ece58"
             ],
             [
              0.8888888888888888,
              "#b5de2b"
             ],
             [
              1,
              "#fde725"
             ]
            ],
            "type": "histogram2d"
           }
          ],
          "histogram2dcontour": [
           {
            "colorbar": {
             "outlinewidth": 1,
             "tickcolor": "rgb(36,36,36)",
             "ticks": "outside"
            },
            "colorscale": [
             [
              0,
              "#440154"
             ],
             [
              0.1111111111111111,
              "#482878"
             ],
             [
              0.2222222222222222,
              "#3e4989"
             ],
             [
              0.3333333333333333,
              "#31688e"
             ],
             [
              0.4444444444444444,
              "#26828e"
             ],
             [
              0.5555555555555556,
              "#1f9e89"
             ],
             [
              0.6666666666666666,
              "#35b779"
             ],
             [
              0.7777777777777778,
              "#6ece58"
             ],
             [
              0.8888888888888888,
              "#b5de2b"
             ],
             [
              1,
              "#fde725"
             ]
            ],
            "type": "histogram2dcontour"
           }
          ],
          "mesh3d": [
           {
            "colorbar": {
             "outlinewidth": 1,
             "tickcolor": "rgb(36,36,36)",
             "ticks": "outside"
            },
            "type": "mesh3d"
           }
          ],
          "parcoords": [
           {
            "line": {
             "colorbar": {
              "outlinewidth": 1,
              "tickcolor": "rgb(36,36,36)",
              "ticks": "outside"
             }
            },
            "type": "parcoords"
           }
          ],
          "pie": [
           {
            "automargin": true,
            "type": "pie"
           }
          ],
          "scatter": [
           {
            "fillpattern": {
             "fillmode": "overlay",
             "size": 10,
             "solidity": 0.2
            },
            "type": "scatter"
           }
          ],
          "scatter3d": [
           {
            "line": {
             "colorbar": {
              "outlinewidth": 1,
              "tickcolor": "rgb(36,36,36)",
              "ticks": "outside"
             }
            },
            "marker": {
             "colorbar": {
              "outlinewidth": 1,
              "tickcolor": "rgb(36,36,36)",
              "ticks": "outside"
             }
            },
            "type": "scatter3d"
           }
          ],
          "scattercarpet": [
           {
            "marker": {
             "colorbar": {
              "outlinewidth": 1,
              "tickcolor": "rgb(36,36,36)",
              "ticks": "outside"
             }
            },
            "type": "scattercarpet"
           }
          ],
          "scattergeo": [
           {
            "marker": {
             "colorbar": {
              "outlinewidth": 1,
              "tickcolor": "rgb(36,36,36)",
              "ticks": "outside"
             }
            },
            "type": "scattergeo"
           }
          ],
          "scattergl": [
           {
            "marker": {
             "colorbar": {
              "outlinewidth": 1,
              "tickcolor": "rgb(36,36,36)",
              "ticks": "outside"
             }
            },
            "type": "scattergl"
           }
          ],
          "scattermapbox": [
           {
            "marker": {
             "colorbar": {
              "outlinewidth": 1,
              "tickcolor": "rgb(36,36,36)",
              "ticks": "outside"
             }
            },
            "type": "scattermapbox"
           }
          ],
          "scatterpolar": [
           {
            "marker": {
             "colorbar": {
              "outlinewidth": 1,
              "tickcolor": "rgb(36,36,36)",
              "ticks": "outside"
             }
            },
            "type": "scatterpolar"
           }
          ],
          "scatterpolargl": [
           {
            "marker": {
             "colorbar": {
              "outlinewidth": 1,
              "tickcolor": "rgb(36,36,36)",
              "ticks": "outside"
             }
            },
            "type": "scatterpolargl"
           }
          ],
          "scatterternary": [
           {
            "marker": {
             "colorbar": {
              "outlinewidth": 1,
              "tickcolor": "rgb(36,36,36)",
              "ticks": "outside"
             }
            },
            "type": "scatterternary"
           }
          ],
          "surface": [
           {
            "colorbar": {
             "outlinewidth": 1,
             "tickcolor": "rgb(36,36,36)",
             "ticks": "outside"
            },
            "colorscale": [
             [
              0,
              "#440154"
             ],
             [
              0.1111111111111111,
              "#482878"
             ],
             [
              0.2222222222222222,
              "#3e4989"
             ],
             [
              0.3333333333333333,
              "#31688e"
             ],
             [
              0.4444444444444444,
              "#26828e"
             ],
             [
              0.5555555555555556,
              "#1f9e89"
             ],
             [
              0.6666666666666666,
              "#35b779"
             ],
             [
              0.7777777777777778,
              "#6ece58"
             ],
             [
              0.8888888888888888,
              "#b5de2b"
             ],
             [
              1,
              "#fde725"
             ]
            ],
            "type": "surface"
           }
          ],
          "table": [
           {
            "cells": {
             "fill": {
              "color": "rgb(237,237,237)"
             },
             "line": {
              "color": "white"
             }
            },
            "header": {
             "fill": {
              "color": "rgb(217,217,217)"
             },
             "line": {
              "color": "white"
             }
            },
            "type": "table"
           }
          ]
         },
         "layout": {
          "annotationdefaults": {
           "arrowhead": 0,
           "arrowwidth": 1
          },
          "autotypenumbers": "strict",
          "coloraxis": {
           "colorbar": {
            "outlinewidth": 1,
            "tickcolor": "rgb(36,36,36)",
            "ticks": "outside"
           }
          },
          "colorscale": {
           "diverging": [
            [
             0,
             "rgb(103,0,31)"
            ],
            [
             0.1,
             "rgb(178,24,43)"
            ],
            [
             0.2,
             "rgb(214,96,77)"
            ],
            [
             0.3,
             "rgb(244,165,130)"
            ],
            [
             0.4,
             "rgb(253,219,199)"
            ],
            [
             0.5,
             "rgb(247,247,247)"
            ],
            [
             0.6,
             "rgb(209,229,240)"
            ],
            [
             0.7,
             "rgb(146,197,222)"
            ],
            [
             0.8,
             "rgb(67,147,195)"
            ],
            [
             0.9,
             "rgb(33,102,172)"
            ],
            [
             1,
             "rgb(5,48,97)"
            ]
           ],
           "sequential": [
            [
             0,
             "#440154"
            ],
            [
             0.1111111111111111,
             "#482878"
            ],
            [
             0.2222222222222222,
             "#3e4989"
            ],
            [
             0.3333333333333333,
             "#31688e"
            ],
            [
             0.4444444444444444,
             "#26828e"
            ],
            [
             0.5555555555555556,
             "#1f9e89"
            ],
            [
             0.6666666666666666,
             "#35b779"
            ],
            [
             0.7777777777777778,
             "#6ece58"
            ],
            [
             0.8888888888888888,
             "#b5de2b"
            ],
            [
             1,
             "#fde725"
            ]
           ],
           "sequentialminus": [
            [
             0,
             "#440154"
            ],
            [
             0.1111111111111111,
             "#482878"
            ],
            [
             0.2222222222222222,
             "#3e4989"
            ],
            [
             0.3333333333333333,
             "#31688e"
            ],
            [
             0.4444444444444444,
             "#26828e"
            ],
            [
             0.5555555555555556,
             "#1f9e89"
            ],
            [
             0.6666666666666666,
             "#35b779"
            ],
            [
             0.7777777777777778,
             "#6ece58"
            ],
            [
             0.8888888888888888,
             "#b5de2b"
            ],
            [
             1,
             "#fde725"
            ]
           ]
          },
          "colorway": [
           "#1F77B4",
           "#FF7F0E",
           "#2CA02C",
           "#D62728",
           "#9467BD",
           "#8C564B",
           "#E377C2",
           "#7F7F7F",
           "#BCBD22",
           "#17BECF"
          ],
          "font": {
           "color": "rgb(36,36,36)"
          },
          "geo": {
           "bgcolor": "white",
           "lakecolor": "white",
           "landcolor": "white",
           "showlakes": true,
           "showland": true,
           "subunitcolor": "white"
          },
          "hoverlabel": {
           "align": "left"
          },
          "hovermode": "closest",
          "mapbox": {
           "style": "light"
          },
          "paper_bgcolor": "white",
          "plot_bgcolor": "white",
          "polar": {
           "angularaxis": {
            "gridcolor": "rgb(232,232,232)",
            "linecolor": "rgb(36,36,36)",
            "showgrid": false,
            "showline": true,
            "ticks": "outside"
           },
           "bgcolor": "white",
           "radialaxis": {
            "gridcolor": "rgb(232,232,232)",
            "linecolor": "rgb(36,36,36)",
            "showgrid": false,
            "showline": true,
            "ticks": "outside"
           }
          },
          "scene": {
           "xaxis": {
            "backgroundcolor": "white",
            "gridcolor": "rgb(232,232,232)",
            "gridwidth": 2,
            "linecolor": "rgb(36,36,36)",
            "showbackground": true,
            "showgrid": false,
            "showline": true,
            "ticks": "outside",
            "zeroline": false,
            "zerolinecolor": "rgb(36,36,36)"
           },
           "yaxis": {
            "backgroundcolor": "white",
            "gridcolor": "rgb(232,232,232)",
            "gridwidth": 2,
            "linecolor": "rgb(36,36,36)",
            "showbackground": true,
            "showgrid": false,
            "showline": true,
            "ticks": "outside",
            "zeroline": false,
            "zerolinecolor": "rgb(36,36,36)"
           },
           "zaxis": {
            "backgroundcolor": "white",
            "gridcolor": "rgb(232,232,232)",
            "gridwidth": 2,
            "linecolor": "rgb(36,36,36)",
            "showbackground": true,
            "showgrid": false,
            "showline": true,
            "ticks": "outside",
            "zeroline": false,
            "zerolinecolor": "rgb(36,36,36)"
           }
          },
          "shapedefaults": {
           "fillcolor": "black",
           "line": {
            "width": 0
           },
           "opacity": 0.3
          },
          "ternary": {
           "aaxis": {
            "gridcolor": "rgb(232,232,232)",
            "linecolor": "rgb(36,36,36)",
            "showgrid": false,
            "showline": true,
            "ticks": "outside"
           },
           "baxis": {
            "gridcolor": "rgb(232,232,232)",
            "linecolor": "rgb(36,36,36)",
            "showgrid": false,
            "showline": true,
            "ticks": "outside"
           },
           "bgcolor": "white",
           "caxis": {
            "gridcolor": "rgb(232,232,232)",
            "linecolor": "rgb(36,36,36)",
            "showgrid": false,
            "showline": true,
            "ticks": "outside"
           }
          },
          "title": {
           "x": 0.05
          },
          "xaxis": {
           "automargin": true,
           "gridcolor": "rgb(232,232,232)",
           "linecolor": "rgb(36,36,36)",
           "showgrid": false,
           "showline": true,
           "ticks": "outside",
           "title": {
            "standoff": 15
           },
           "zeroline": false,
           "zerolinecolor": "rgb(36,36,36)"
          },
          "yaxis": {
           "automargin": true,
           "gridcolor": "rgb(232,232,232)",
           "linecolor": "rgb(36,36,36)",
           "showgrid": false,
           "showline": true,
           "ticks": "outside",
           "title": {
            "standoff": 15
           },
           "zeroline": false,
           "zerolinecolor": "rgb(36,36,36)"
          }
         }
        },
        "title": {
         "text": "Distribution of the available markets(album)"
        },
        "xaxis": {
         "anchor": "y",
         "domain": [
          0,
          1
         ],
         "title": {
          "text": "total_markets"
         }
        },
        "yaxis": {
         "anchor": "x",
         "domain": [
          0,
          1
         ],
         "title": {
          "text": "count"
         }
        }
       }
      }
     },
     "metadata": {},
     "output_type": "display_data"
    }
   ],
   "source": [
    "fig = px.histogram(album, x=\"total_markets\", template = \"simple_white\")\n",
    "fig.update_layout(\n",
    "    title = 'Distribution of the available markets(album)'\n",
    ")\n",
    "fig.show()"
   ]
  },
  {
   "cell_type": "markdown",
   "metadata": {},
   "source": [
    "Lil baby's albums are usually available in around 180 markets (country)"
   ]
  },
  {
   "cell_type": "markdown",
   "metadata": {},
   "source": [
    "### Distribution of albums by release year"
   ]
  },
  {
   "cell_type": "code",
   "execution_count": 186,
   "metadata": {},
   "outputs": [],
   "source": [
    "#create a release year column\n",
    "album['release_year'] = pd.to_datetime(album['release_date']).dt.year"
   ]
  },
  {
   "cell_type": "code",
   "execution_count": 187,
   "metadata": {},
   "outputs": [
    {
     "data": {
      "image/png": "[encoded data removed]",
      "text/plain": [
       "<Figure size 640x480 with 1 Axes>"
      ]
     },
     "metadata": {},
     "output_type": "display_data"
    }
   ],
   "source": [
    "sns.histplot(data=album1, x='release_year')\n",
    "\n",
    "plt.title('Albums distribution by year', fontdict={\"fontsize\":16})\n",
    "plt.xlabel('year')\n",
    "\n",
    "plt.show()"
   ]
  },
  {
   "cell_type": "markdown",
   "metadata": {},
   "source": [
    "In 2017, Lil Baby released his most albums in a single year"
   ]
  },
  {
   "cell_type": "markdown",
   "metadata": {},
   "source": [
    "### Evolution of albums popularity over years "
   ]
  },
  {
   "cell_type": "code",
   "execution_count": 194,
   "metadata": {},
   "outputs": [
    {
     "data": {
      "image/png": "[encoded data removed]",
      "text/plain": [
       "<Figure size 640x480 with 1 Axes>"
      ]
     },
     "metadata": {},
     "output_type": "display_data"
    }
   ],
   "source": [
    "sns.lineplot(data=album, x='release_year', y='popularity')\n",
    "\n",
    "plt.title('Albums popularity over years', fontdict={'fontsize':16})\n",
    "plt.xlabel('year')\n",
    "\n",
    "plt.show()"
   ]
  },
  {
   "cell_type": "markdown",
   "metadata": {},
   "source": [
    "The popularity of Lil Baby albums has grown over the years"
   ]
  },
  {
   "cell_type": "markdown",
   "metadata": {},
   "source": [
    "## Conclusion & findings"
   ]
  },
  {
   "cell_type": "markdown",
   "metadata": {},
   "source": [
    "During this small Exploratory Analysis of the Lil Baby's tracks and albums data, we found many things: "
   ]
  },
  {
   "cell_type": "markdown",
   "metadata": {},
   "source": [
    "* Top tracks : Drip too hard, Freestyle, Pure cocaine\n",
    "\n",
    "* Top albums : It's only me, Drip Harder, Harder Than Ever\n",
    "\n",
    "* Highest number of featuring : Lil Durk, Gunna, Marlo, Young Thug and Lil Yatchy \n",
    "\n",
    "* There is no relationship between the duration of a track and his popularity\n",
    "\n",
    "* Lil baby's tracks and albums are usually available in around 180 markets (country)\n",
    "\n",
    "* In 2017, Lil Baby released his most albums in a single year\n",
    "\n",
    "* The popularity of Lil Baby albums has grown over the years\n"
   ]
  }
 ],
 "metadata": {
  "kernelspec": {
   "display_name": "base",
   "language": "python",
   "name": "python3"
  },
  "language_info": {
   "codemirror_mode": {
    "name": "ipython",
    "version": 3
   },
   "file_extension": ".py",
   "mimetype": "text/x-python",
   "name": "python",
   "nbconvert_exporter": "python",
   "pygments_lexer": "ipython3",
   "version": "3.10.9"
  },
  "orig_nbformat": 4
 },
 "nbformat": 4,
 "nbformat_minor": 2
}
